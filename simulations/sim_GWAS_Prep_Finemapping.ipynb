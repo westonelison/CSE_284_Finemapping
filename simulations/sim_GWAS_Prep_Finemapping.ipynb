{
 "cells": [
  {
   "cell_type": "code",
   "execution_count": 83,
   "id": "bf0f2501",
   "metadata": {
    "scrolled": true
   },
   "outputs": [],
   "source": [
    "library(dplyr)\n",
    "library(ggplot2)\n",
    "library(susieR)\n",
    "library(stringr)\n",
    "library(data.table)\n",
    "library(ggplot2)\n",
    "library(ggrepel)"
   ]
  },
  {
   "cell_type": "code",
   "execution_count": 104,
   "id": "415d8e69",
   "metadata": {},
   "outputs": [],
   "source": [
    "Region <- '1KGP_hg19_CEL_1MB.vcf.gz'\n",
    "seed <- 4\n",
    "n_CV <- 2\n",
    "n_Ctrl <- 20000\n",
    "n_Case <- 2000"
   ]
  },
  {
   "cell_type": "markdown",
   "id": "63904a2a",
   "metadata": {},
   "source": [
    "# Get maf"
   ]
  },
  {
   "cell_type": "code",
   "execution_count": 88,
   "id": "79f73ac4",
   "metadata": {},
   "outputs": [
    {
     "data": {
      "text/html": [
       "<style>\n",
       ".list-inline {list-style: none; margin:0; padding: 0}\n",
       ".list-inline>li {display: inline-block}\n",
       ".list-inline>li:not(:last-child)::after {content: \"\\00b7\"; padding: 0 .5ex}\n",
       "</style>\n",
       "<ol class=list-inline><li>2665</li><li>2513</li></ol>\n"
      ],
      "text/latex": [
       "\\begin{enumerate*}\n",
       "\\item 2665\n",
       "\\item 2513\n",
       "\\end{enumerate*}\n"
      ],
      "text/markdown": [
       "1. 2665\n",
       "2. 2513\n",
       "\n",
       "\n"
      ],
      "text/plain": [
       "[1] 2665 2513"
      ]
     },
     "metadata": {},
     "output_type": "display_data"
    },
    {
     "data": {
      "text/html": [
       "<table class=\"dataframe\">\n",
       "<caption>A data.frame: 6 × 2513</caption>\n",
       "<thead>\n",
       "\t<tr><th></th><th scope=col>V1</th><th scope=col>V2</th><th scope=col>V3</th><th scope=col>V4</th><th scope=col>V5</th><th scope=col>V6</th><th scope=col>V7</th><th scope=col>V8</th><th scope=col>V9</th><th scope=col>V10</th><th scope=col>⋯</th><th scope=col>V2504</th><th scope=col>V2505</th><th scope=col>V2506</th><th scope=col>V2507</th><th scope=col>V2508</th><th scope=col>V2509</th><th scope=col>V2510</th><th scope=col>V2511</th><th scope=col>V2512</th><th scope=col>V2513</th></tr>\n",
       "\t<tr><th></th><th scope=col>&lt;int&gt;</th><th scope=col>&lt;int&gt;</th><th scope=col>&lt;chr&gt;</th><th scope=col>&lt;chr&gt;</th><th scope=col>&lt;chr&gt;</th><th scope=col>&lt;int&gt;</th><th scope=col>&lt;chr&gt;</th><th scope=col>&lt;chr&gt;</th><th scope=col>&lt;chr&gt;</th><th scope=col>&lt;chr&gt;</th><th scope=col>⋯</th><th scope=col>&lt;chr&gt;</th><th scope=col>&lt;chr&gt;</th><th scope=col>&lt;chr&gt;</th><th scope=col>&lt;chr&gt;</th><th scope=col>&lt;chr&gt;</th><th scope=col>&lt;chr&gt;</th><th scope=col>&lt;chr&gt;</th><th scope=col>&lt;chr&gt;</th><th scope=col>&lt;chr&gt;</th><th scope=col>&lt;chr&gt;</th></tr>\n",
       "</thead>\n",
       "<tbody>\n",
       "\t<tr><th scope=row>1</th><td>9</td><td>135437285</td><td>rs7024404 </td><td>A</td><td>G</td><td>100</td><td>PASS</td><td>AC=2304;AF=0.460064;AN=5008;NS=2504;DP=16408;EAS_AF=0.3978;AMR_AF=0.3501;AFR_AF=0.6694;EUR_AF=0.3996;SAS_AF=0.3814;AA=G|||;VT=SNP</td><td>GT</td><td>1|0</td><td>⋯</td><td>1|1</td><td>1|1</td><td>0|0</td><td>0|0</td><td>0|1</td><td>0|0</td><td>0|0</td><td>0|0</td><td>1|0</td><td>0|0</td></tr>\n",
       "\t<tr><th scope=row>2</th><td>9</td><td>135437812</td><td>rs4962191 </td><td>A</td><td>T</td><td>100</td><td>PASS</td><td>AC=1448;AF=0.289137;AN=5008;NS=2504;DP=18859;EAS_AF=0.3512;AMR_AF=0.245;AFR_AF=0.2738;EUR_AF=0.2962;SAS_AF=0.2699;AA=A|||;VT=SNP </td><td>GT</td><td>1|0</td><td>⋯</td><td>1|0</td><td>1|1</td><td>0|0</td><td>0|0</td><td>0|1</td><td>0|0</td><td>0|0</td><td>0|0</td><td>1|0</td><td>0|0</td></tr>\n",
       "\t<tr><th scope=row>3</th><td>9</td><td>135438097</td><td>rs4962192 </td><td>T</td><td>A</td><td>100</td><td>PASS</td><td>AC=1066;AF=0.212859;AN=5008;NS=2504;DP=17550;EAS_AF=0.3492;AMR_AF=0.2176;AFR_AF=0.0378;EUR_AF=0.2724;SAS_AF=0.2444;AA=T|||;VT=SNP</td><td>GT</td><td>1|0</td><td>⋯</td><td>1|0</td><td>1|1</td><td>0|0</td><td>0|0</td><td>0|1</td><td>0|0</td><td>0|0</td><td>0|0</td><td>1|0</td><td>0|0</td></tr>\n",
       "\t<tr><th scope=row>4</th><td>9</td><td>135438468</td><td>rs60358479</td><td>A</td><td>C</td><td>100</td><td>PASS</td><td>AC=383;AF=0.0764776;AN=5008;NS=2504;DP=17272;EAS_AF=0.001;AMR_AF=0.0303;AFR_AF=0.2247;EUR_AF=0.0169;SAS_AF=0.0481;AA=A|||;VT=SNP </td><td>GT</td><td>0|0</td><td>⋯</td><td>0|0</td><td>0|0</td><td>0|0</td><td>0|0</td><td>0|0</td><td>0|0</td><td>0|0</td><td>0|0</td><td>0|0</td><td>0|0</td></tr>\n",
       "\t<tr><th scope=row>5</th><td>9</td><td>135441627</td><td>rs17149294</td><td>A</td><td>G</td><td>100</td><td>PASS</td><td>AC=489;AF=0.0976438;AN=5008;NS=2504;DP=19189;EAS_AF=0.001;AMR_AF=0.0922;AFR_AF=0.2254;EUR_AF=0.1024;SAS_AF=0.0235;AA=A|||;VT=SNP </td><td>GT</td><td>0|0</td><td>⋯</td><td>0|0</td><td>0|0</td><td>0|0</td><td>0|0</td><td>0|0</td><td>0|0</td><td>0|0</td><td>0|0</td><td>0|0</td><td>0|0</td></tr>\n",
       "\t<tr><th scope=row>6</th><td>9</td><td>135441661</td><td>rs17149298</td><td>C</td><td>T</td><td>100</td><td>PASS</td><td>AC=471;AF=0.0940495;AN=5008;NS=2504;DP=19373;EAS_AF=0.001;AMR_AF=0.0893;AFR_AF=0.2133;EUR_AF=0.1024;SAS_AF=0.0235;AA=C|||;VT=SNP </td><td>GT</td><td>0|0</td><td>⋯</td><td>0|0</td><td>0|0</td><td>0|0</td><td>0|0</td><td>0|0</td><td>0|0</td><td>0|0</td><td>0|0</td><td>0|0</td><td>0|0</td></tr>\n",
       "</tbody>\n",
       "</table>\n"
      ],
      "text/latex": [
       "A data.frame: 6 × 2513\n",
       "\\begin{tabular}{r|lllllllllllllllllllll}\n",
       "  & V1 & V2 & V3 & V4 & V5 & V6 & V7 & V8 & V9 & V10 & ⋯ & V2504 & V2505 & V2506 & V2507 & V2508 & V2509 & V2510 & V2511 & V2512 & V2513\\\\\n",
       "  & <int> & <int> & <chr> & <chr> & <chr> & <int> & <chr> & <chr> & <chr> & <chr> & ⋯ & <chr> & <chr> & <chr> & <chr> & <chr> & <chr> & <chr> & <chr> & <chr> & <chr>\\\\\n",
       "\\hline\n",
       "\t1 & 9 & 135437285 & rs7024404  & A & G & 100 & PASS & AC=2304;AF=0.460064;AN=5008;NS=2504;DP=16408;EAS\\_AF=0.3978;AMR\\_AF=0.3501;AFR\\_AF=0.6694;EUR\\_AF=0.3996;SAS\\_AF=0.3814;AA=G\\textbar{}\\textbar{}\\textbar{};VT=SNP & GT & 1\\textbar{}0 & ⋯ & 1\\textbar{}1 & 1\\textbar{}1 & 0\\textbar{}0 & 0\\textbar{}0 & 0\\textbar{}1 & 0\\textbar{}0 & 0\\textbar{}0 & 0\\textbar{}0 & 1\\textbar{}0 & 0\\textbar{}0\\\\\n",
       "\t2 & 9 & 135437812 & rs4962191  & A & T & 100 & PASS & AC=1448;AF=0.289137;AN=5008;NS=2504;DP=18859;EAS\\_AF=0.3512;AMR\\_AF=0.245;AFR\\_AF=0.2738;EUR\\_AF=0.2962;SAS\\_AF=0.2699;AA=A\\textbar{}\\textbar{}\\textbar{};VT=SNP  & GT & 1\\textbar{}0 & ⋯ & 1\\textbar{}0 & 1\\textbar{}1 & 0\\textbar{}0 & 0\\textbar{}0 & 0\\textbar{}1 & 0\\textbar{}0 & 0\\textbar{}0 & 0\\textbar{}0 & 1\\textbar{}0 & 0\\textbar{}0\\\\\n",
       "\t3 & 9 & 135438097 & rs4962192  & T & A & 100 & PASS & AC=1066;AF=0.212859;AN=5008;NS=2504;DP=17550;EAS\\_AF=0.3492;AMR\\_AF=0.2176;AFR\\_AF=0.0378;EUR\\_AF=0.2724;SAS\\_AF=0.2444;AA=T\\textbar{}\\textbar{}\\textbar{};VT=SNP & GT & 1\\textbar{}0 & ⋯ & 1\\textbar{}0 & 1\\textbar{}1 & 0\\textbar{}0 & 0\\textbar{}0 & 0\\textbar{}1 & 0\\textbar{}0 & 0\\textbar{}0 & 0\\textbar{}0 & 1\\textbar{}0 & 0\\textbar{}0\\\\\n",
       "\t4 & 9 & 135438468 & rs60358479 & A & C & 100 & PASS & AC=383;AF=0.0764776;AN=5008;NS=2504;DP=17272;EAS\\_AF=0.001;AMR\\_AF=0.0303;AFR\\_AF=0.2247;EUR\\_AF=0.0169;SAS\\_AF=0.0481;AA=A\\textbar{}\\textbar{}\\textbar{};VT=SNP  & GT & 0\\textbar{}0 & ⋯ & 0\\textbar{}0 & 0\\textbar{}0 & 0\\textbar{}0 & 0\\textbar{}0 & 0\\textbar{}0 & 0\\textbar{}0 & 0\\textbar{}0 & 0\\textbar{}0 & 0\\textbar{}0 & 0\\textbar{}0\\\\\n",
       "\t5 & 9 & 135441627 & rs17149294 & A & G & 100 & PASS & AC=489;AF=0.0976438;AN=5008;NS=2504;DP=19189;EAS\\_AF=0.001;AMR\\_AF=0.0922;AFR\\_AF=0.2254;EUR\\_AF=0.1024;SAS\\_AF=0.0235;AA=A\\textbar{}\\textbar{}\\textbar{};VT=SNP  & GT & 0\\textbar{}0 & ⋯ & 0\\textbar{}0 & 0\\textbar{}0 & 0\\textbar{}0 & 0\\textbar{}0 & 0\\textbar{}0 & 0\\textbar{}0 & 0\\textbar{}0 & 0\\textbar{}0 & 0\\textbar{}0 & 0\\textbar{}0\\\\\n",
       "\t6 & 9 & 135441661 & rs17149298 & C & T & 100 & PASS & AC=471;AF=0.0940495;AN=5008;NS=2504;DP=19373;EAS\\_AF=0.001;AMR\\_AF=0.0893;AFR\\_AF=0.2133;EUR\\_AF=0.1024;SAS\\_AF=0.0235;AA=C\\textbar{}\\textbar{}\\textbar{};VT=SNP  & GT & 0\\textbar{}0 & ⋯ & 0\\textbar{}0 & 0\\textbar{}0 & 0\\textbar{}0 & 0\\textbar{}0 & 0\\textbar{}0 & 0\\textbar{}0 & 0\\textbar{}0 & 0\\textbar{}0 & 0\\textbar{}0 & 0\\textbar{}0\\\\\n",
       "\\end{tabular}\n"
      ],
      "text/markdown": [
       "\n",
       "A data.frame: 6 × 2513\n",
       "\n",
       "| <!--/--> | V1 &lt;int&gt; | V2 &lt;int&gt; | V3 &lt;chr&gt; | V4 &lt;chr&gt; | V5 &lt;chr&gt; | V6 &lt;int&gt; | V7 &lt;chr&gt; | V8 &lt;chr&gt; | V9 &lt;chr&gt; | V10 &lt;chr&gt; | ⋯ ⋯ | V2504 &lt;chr&gt; | V2505 &lt;chr&gt; | V2506 &lt;chr&gt; | V2507 &lt;chr&gt; | V2508 &lt;chr&gt; | V2509 &lt;chr&gt; | V2510 &lt;chr&gt; | V2511 &lt;chr&gt; | V2512 &lt;chr&gt; | V2513 &lt;chr&gt; |\n",
       "|---|---|---|---|---|---|---|---|---|---|---|---|---|---|---|---|---|---|---|---|---|---|\n",
       "| 1 | 9 | 135437285 | rs7024404  | A | G | 100 | PASS | AC=2304;AF=0.460064;AN=5008;NS=2504;DP=16408;EAS_AF=0.3978;AMR_AF=0.3501;AFR_AF=0.6694;EUR_AF=0.3996;SAS_AF=0.3814;AA=G|||;VT=SNP | GT | 1|0 | ⋯ | 1|1 | 1|1 | 0|0 | 0|0 | 0|1 | 0|0 | 0|0 | 0|0 | 1|0 | 0|0 |\n",
       "| 2 | 9 | 135437812 | rs4962191  | A | T | 100 | PASS | AC=1448;AF=0.289137;AN=5008;NS=2504;DP=18859;EAS_AF=0.3512;AMR_AF=0.245;AFR_AF=0.2738;EUR_AF=0.2962;SAS_AF=0.2699;AA=A|||;VT=SNP  | GT | 1|0 | ⋯ | 1|0 | 1|1 | 0|0 | 0|0 | 0|1 | 0|0 | 0|0 | 0|0 | 1|0 | 0|0 |\n",
       "| 3 | 9 | 135438097 | rs4962192  | T | A | 100 | PASS | AC=1066;AF=0.212859;AN=5008;NS=2504;DP=17550;EAS_AF=0.3492;AMR_AF=0.2176;AFR_AF=0.0378;EUR_AF=0.2724;SAS_AF=0.2444;AA=T|||;VT=SNP | GT | 1|0 | ⋯ | 1|0 | 1|1 | 0|0 | 0|0 | 0|1 | 0|0 | 0|0 | 0|0 | 1|0 | 0|0 |\n",
       "| 4 | 9 | 135438468 | rs60358479 | A | C | 100 | PASS | AC=383;AF=0.0764776;AN=5008;NS=2504;DP=17272;EAS_AF=0.001;AMR_AF=0.0303;AFR_AF=0.2247;EUR_AF=0.0169;SAS_AF=0.0481;AA=A|||;VT=SNP  | GT | 0|0 | ⋯ | 0|0 | 0|0 | 0|0 | 0|0 | 0|0 | 0|0 | 0|0 | 0|0 | 0|0 | 0|0 |\n",
       "| 5 | 9 | 135441627 | rs17149294 | A | G | 100 | PASS | AC=489;AF=0.0976438;AN=5008;NS=2504;DP=19189;EAS_AF=0.001;AMR_AF=0.0922;AFR_AF=0.2254;EUR_AF=0.1024;SAS_AF=0.0235;AA=A|||;VT=SNP  | GT | 0|0 | ⋯ | 0|0 | 0|0 | 0|0 | 0|0 | 0|0 | 0|0 | 0|0 | 0|0 | 0|0 | 0|0 |\n",
       "| 6 | 9 | 135441661 | rs17149298 | C | T | 100 | PASS | AC=471;AF=0.0940495;AN=5008;NS=2504;DP=19373;EAS_AF=0.001;AMR_AF=0.0893;AFR_AF=0.2133;EUR_AF=0.1024;SAS_AF=0.0235;AA=C|||;VT=SNP  | GT | 0|0 | ⋯ | 0|0 | 0|0 | 0|0 | 0|0 | 0|0 | 0|0 | 0|0 | 0|0 | 0|0 | 0|0 |\n",
       "\n"
      ],
      "text/plain": [
       "  V1 V2        V3         V4 V5 V6  V7  \n",
       "1 9  135437285 rs7024404  A  G  100 PASS\n",
       "2 9  135437812 rs4962191  A  T  100 PASS\n",
       "3 9  135438097 rs4962192  T  A  100 PASS\n",
       "4 9  135438468 rs60358479 A  C  100 PASS\n",
       "5 9  135441627 rs17149294 A  G  100 PASS\n",
       "6 9  135441661 rs17149298 C  T  100 PASS\n",
       "  V8                                                                                                                               \n",
       "1 AC=2304;AF=0.460064;AN=5008;NS=2504;DP=16408;EAS_AF=0.3978;AMR_AF=0.3501;AFR_AF=0.6694;EUR_AF=0.3996;SAS_AF=0.3814;AA=G|||;VT=SNP\n",
       "2 AC=1448;AF=0.289137;AN=5008;NS=2504;DP=18859;EAS_AF=0.3512;AMR_AF=0.245;AFR_AF=0.2738;EUR_AF=0.2962;SAS_AF=0.2699;AA=A|||;VT=SNP \n",
       "3 AC=1066;AF=0.212859;AN=5008;NS=2504;DP=17550;EAS_AF=0.3492;AMR_AF=0.2176;AFR_AF=0.0378;EUR_AF=0.2724;SAS_AF=0.2444;AA=T|||;VT=SNP\n",
       "4 AC=383;AF=0.0764776;AN=5008;NS=2504;DP=17272;EAS_AF=0.001;AMR_AF=0.0303;AFR_AF=0.2247;EUR_AF=0.0169;SAS_AF=0.0481;AA=A|||;VT=SNP \n",
       "5 AC=489;AF=0.0976438;AN=5008;NS=2504;DP=19189;EAS_AF=0.001;AMR_AF=0.0922;AFR_AF=0.2254;EUR_AF=0.1024;SAS_AF=0.0235;AA=A|||;VT=SNP \n",
       "6 AC=471;AF=0.0940495;AN=5008;NS=2504;DP=19373;EAS_AF=0.001;AMR_AF=0.0893;AFR_AF=0.2133;EUR_AF=0.1024;SAS_AF=0.0235;AA=C|||;VT=SNP \n",
       "  V9 V10 ⋯ V2504 V2505 V2506 V2507 V2508 V2509 V2510 V2511 V2512 V2513\n",
       "1 GT 1|0 ⋯ 1|1   1|1   0|0   0|0   0|1   0|0   0|0   0|0   1|0   0|0  \n",
       "2 GT 1|0 ⋯ 1|0   1|1   0|0   0|0   0|1   0|0   0|0   0|0   1|0   0|0  \n",
       "3 GT 1|0 ⋯ 1|0   1|1   0|0   0|0   0|1   0|0   0|0   0|0   1|0   0|0  \n",
       "4 GT 0|0 ⋯ 0|0   0|0   0|0   0|0   0|0   0|0   0|0   0|0   0|0   0|0  \n",
       "5 GT 0|0 ⋯ 0|0   0|0   0|0   0|0   0|0   0|0   0|0   0|0   0|0   0|0  \n",
       "6 GT 0|0 ⋯ 0|0   0|0   0|0   0|0   0|0   0|0   0|0   0|0   0|0   0|0  "
      ]
     },
     "metadata": {},
     "output_type": "display_data"
    }
   ],
   "source": [
    "vcf_maf <- read.table(paste0(\"simulation_summary_stats/\",Region,\"_snp_maf_0.05.tsv\"),\n",
    "           header=F, sep='\\t')\n",
    "\n",
    "dim(vcf_maf)\n",
    "head(vcf_maf)"
   ]
  },
  {
   "cell_type": "code",
   "execution_count": 89,
   "id": "5fc14349",
   "metadata": {},
   "outputs": [
    {
     "data": {
      "text/html": [
       "<table class=\"dataframe\">\n",
       "<caption>A data.frame: 6 × 2</caption>\n",
       "<thead>\n",
       "\t<tr><th></th><th scope=col>rsid</th><th scope=col>maf</th></tr>\n",
       "\t<tr><th></th><th scope=col>&lt;chr&gt;</th><th scope=col>&lt;dbl&gt;</th></tr>\n",
       "</thead>\n",
       "<tbody>\n",
       "\t<tr><th scope=row>1</th><td>rs7024404 </td><td>0.4600640</td></tr>\n",
       "\t<tr><th scope=row>2</th><td>rs4962191 </td><td>0.2891370</td></tr>\n",
       "\t<tr><th scope=row>3</th><td>rs4962192 </td><td>0.2128590</td></tr>\n",
       "\t<tr><th scope=row>4</th><td>rs60358479</td><td>0.0764776</td></tr>\n",
       "\t<tr><th scope=row>5</th><td>rs17149294</td><td>0.0976438</td></tr>\n",
       "\t<tr><th scope=row>6</th><td>rs17149298</td><td>0.0940495</td></tr>\n",
       "</tbody>\n",
       "</table>\n"
      ],
      "text/latex": [
       "A data.frame: 6 × 2\n",
       "\\begin{tabular}{r|ll}\n",
       "  & rsid & maf\\\\\n",
       "  & <chr> & <dbl>\\\\\n",
       "\\hline\n",
       "\t1 & rs7024404  & 0.4600640\\\\\n",
       "\t2 & rs4962191  & 0.2891370\\\\\n",
       "\t3 & rs4962192  & 0.2128590\\\\\n",
       "\t4 & rs60358479 & 0.0764776\\\\\n",
       "\t5 & rs17149294 & 0.0976438\\\\\n",
       "\t6 & rs17149298 & 0.0940495\\\\\n",
       "\\end{tabular}\n"
      ],
      "text/markdown": [
       "\n",
       "A data.frame: 6 × 2\n",
       "\n",
       "| <!--/--> | rsid &lt;chr&gt; | maf &lt;dbl&gt; |\n",
       "|---|---|---|\n",
       "| 1 | rs7024404  | 0.4600640 |\n",
       "| 2 | rs4962191  | 0.2891370 |\n",
       "| 3 | rs4962192  | 0.2128590 |\n",
       "| 4 | rs60358479 | 0.0764776 |\n",
       "| 5 | rs17149294 | 0.0976438 |\n",
       "| 6 | rs17149298 | 0.0940495 |\n",
       "\n"
      ],
      "text/plain": [
       "  rsid       maf      \n",
       "1 rs7024404  0.4600640\n",
       "2 rs4962191  0.2891370\n",
       "3 rs4962192  0.2128590\n",
       "4 rs60358479 0.0764776\n",
       "5 rs17149294 0.0976438\n",
       "6 rs17149298 0.0940495"
      ]
     },
     "metadata": {},
     "output_type": "display_data"
    }
   ],
   "source": [
    "vcf_maf_for_maf <- select(vcf_maf, rsid=V3, V8)\n",
    "vcf_maf_for_maf$maf <- stringr::str_extract(vcf_maf_for_maf$V8, \"AF=\\\\d+\\\\.\\\\d+\")\n",
    "vcf_maf_for_maf <- select(vcf_maf_for_maf, -V8)\n",
    "vcf_maf_for_maf$maf <- as.numeric(stringr::str_replace(vcf_maf_for_maf$maf, \"AF=\",\"\"))\n",
    "vcf_maf_for_maf$maf[vcf_maf_for_maf$maf > 0.5] <- 1-(vcf_maf_for_maf$maf[vcf_maf_for_maf$maf > 0.5])\n",
    "\n",
    "head(vcf_maf_for_maf)"
   ]
  },
  {
   "cell_type": "markdown",
   "id": "b7143e2a",
   "metadata": {},
   "source": [
    "# Load summary statistics"
   ]
  },
  {
   "cell_type": "code",
   "execution_count": 105,
   "id": "fab06bb6",
   "metadata": {},
   "outputs": [
    {
     "data": {
      "text/html": [
       "<style>\n",
       ".list-inline {list-style: none; margin:0; padding: 0}\n",
       ".list-inline>li {display: inline-block}\n",
       ".list-inline>li:not(:last-child)::after {content: \"\\00b7\"; padding: 0 .5ex}\n",
       "</style>\n",
       "<ol class=list-inline><li>2665</li><li>6</li></ol>\n"
      ],
      "text/latex": [
       "\\begin{enumerate*}\n",
       "\\item 2665\n",
       "\\item 6\n",
       "\\end{enumerate*}\n"
      ],
      "text/markdown": [
       "1. 2665\n",
       "2. 6\n",
       "\n",
       "\n"
      ],
      "text/plain": [
       "[1] 2665    6"
      ]
     },
     "metadata": {},
     "output_type": "display_data"
    },
    {
     "data": {
      "text/html": [
       "<table class=\"dataframe\">\n",
       "<caption>A data.frame: 6 × 6</caption>\n",
       "<thead>\n",
       "\t<tr><th></th><th scope=col>snps</th><th scope=col>z</th><th scope=col>p.value</th><th scope=col>log.p.value</th><th scope=col>CV</th><th scope=col>OR</th></tr>\n",
       "\t<tr><th></th><th scope=col>&lt;chr&gt;</th><th scope=col>&lt;dbl&gt;</th><th scope=col>&lt;dbl&gt;</th><th scope=col>&lt;dbl&gt;</th><th scope=col>&lt;int&gt;</th><th scope=col>&lt;dbl&gt;</th></tr>\n",
       "</thead>\n",
       "<tbody>\n",
       "\t<tr><th scope=row>1</th><td>rs7024404 </td><td>-1.0410582</td><td>0.2978486</td><td>-1.2111701</td><td>0</td><td>1</td></tr>\n",
       "\t<tr><th scope=row>2</th><td>rs4962191 </td><td>-0.5416807</td><td>0.5880385</td><td>-0.5309629</td><td>0</td><td>1</td></tr>\n",
       "\t<tr><th scope=row>3</th><td>rs4962192 </td><td>-0.3180073</td><td>0.7504794</td><td>-0.2870431</td><td>0</td><td>1</td></tr>\n",
       "\t<tr><th scope=row>4</th><td>rs60358479</td><td>-0.4685900</td><td>0.6393627</td><td>-0.4472834</td><td>0</td><td>1</td></tr>\n",
       "\t<tr><th scope=row>5</th><td>rs17149294</td><td>-0.4358003</td><td>0.6629816</td><td>-0.4110080</td><td>0</td><td>1</td></tr>\n",
       "\t<tr><th scope=row>6</th><td>rs17149298</td><td>-0.4353291</td><td>0.6633236</td><td>-0.4104924</td><td>0</td><td>1</td></tr>\n",
       "</tbody>\n",
       "</table>\n"
      ],
      "text/latex": [
       "A data.frame: 6 × 6\n",
       "\\begin{tabular}{r|llllll}\n",
       "  & snps & z & p.value & log.p.value & CV & OR\\\\\n",
       "  & <chr> & <dbl> & <dbl> & <dbl> & <int> & <dbl>\\\\\n",
       "\\hline\n",
       "\t1 & rs7024404  & -1.0410582 & 0.2978486 & -1.2111701 & 0 & 1\\\\\n",
       "\t2 & rs4962191  & -0.5416807 & 0.5880385 & -0.5309629 & 0 & 1\\\\\n",
       "\t3 & rs4962192  & -0.3180073 & 0.7504794 & -0.2870431 & 0 & 1\\\\\n",
       "\t4 & rs60358479 & -0.4685900 & 0.6393627 & -0.4472834 & 0 & 1\\\\\n",
       "\t5 & rs17149294 & -0.4358003 & 0.6629816 & -0.4110080 & 0 & 1\\\\\n",
       "\t6 & rs17149298 & -0.4353291 & 0.6633236 & -0.4104924 & 0 & 1\\\\\n",
       "\\end{tabular}\n"
      ],
      "text/markdown": [
       "\n",
       "A data.frame: 6 × 6\n",
       "\n",
       "| <!--/--> | snps &lt;chr&gt; | z &lt;dbl&gt; | p.value &lt;dbl&gt; | log.p.value &lt;dbl&gt; | CV &lt;int&gt; | OR &lt;dbl&gt; |\n",
       "|---|---|---|---|---|---|---|\n",
       "| 1 | rs7024404  | -1.0410582 | 0.2978486 | -1.2111701 | 0 | 1 |\n",
       "| 2 | rs4962191  | -0.5416807 | 0.5880385 | -0.5309629 | 0 | 1 |\n",
       "| 3 | rs4962192  | -0.3180073 | 0.7504794 | -0.2870431 | 0 | 1 |\n",
       "| 4 | rs60358479 | -0.4685900 | 0.6393627 | -0.4472834 | 0 | 1 |\n",
       "| 5 | rs17149294 | -0.4358003 | 0.6629816 | -0.4110080 | 0 | 1 |\n",
       "| 6 | rs17149298 | -0.4353291 | 0.6633236 | -0.4104924 | 0 | 1 |\n",
       "\n"
      ],
      "text/plain": [
       "  snps       z          p.value   log.p.value CV OR\n",
       "1 rs7024404  -1.0410582 0.2978486 -1.2111701  0  1 \n",
       "2 rs4962191  -0.5416807 0.5880385 -0.5309629  0  1 \n",
       "3 rs4962192  -0.3180073 0.7504794 -0.2870431  0  1 \n",
       "4 rs60358479 -0.4685900 0.6393627 -0.4472834  0  1 \n",
       "5 rs17149294 -0.4358003 0.6629816 -0.4110080  0  1 \n",
       "6 rs17149298 -0.4353291 0.6633236 -0.4104924  0  1 "
      ]
     },
     "metadata": {},
     "output_type": "display_data"
    }
   ],
   "source": [
    "sum.stats <- read.table(paste0('simulation_summary_stats/',\n",
    "                               Region,'_',seed,\n",
    "                               '/ss_',n_CV,'_CV_',n_Ctrl,'_ctrl_',n_Case,'_case.tsv'), header=T)\n",
    "\n",
    "dim(sum.stats)\n",
    "head(sum.stats)"
   ]
  },
  {
   "cell_type": "code",
   "execution_count": 106,
   "id": "e68490d7",
   "metadata": {},
   "outputs": [
    {
     "data": {
      "text/html": [
       "<table class=\"dataframe\">\n",
       "<caption>A data.frame: 2 × 6</caption>\n",
       "<thead>\n",
       "\t<tr><th></th><th scope=col>snps</th><th scope=col>z</th><th scope=col>p.value</th><th scope=col>log.p.value</th><th scope=col>CV</th><th scope=col>OR</th></tr>\n",
       "\t<tr><th></th><th scope=col>&lt;chr&gt;</th><th scope=col>&lt;dbl&gt;</th><th scope=col>&lt;dbl&gt;</th><th scope=col>&lt;dbl&gt;</th><th scope=col>&lt;int&gt;</th><th scope=col>&lt;dbl&gt;</th></tr>\n",
       "</thead>\n",
       "<tbody>\n",
       "\t<tr><th scope=row>587</th><td>rs809264  </td><td>1.580919</td><td>0.11389647</td><td>-2.172465</td><td>2</td><td>1.144373</td></tr>\n",
       "\t<tr><th scope=row>1528</th><td>rs11244037</td><td>2.137690</td><td>0.03254191</td><td>-3.425227</td><td>1</td><td>1.088903</td></tr>\n",
       "</tbody>\n",
       "</table>\n"
      ],
      "text/latex": [
       "A data.frame: 2 × 6\n",
       "\\begin{tabular}{r|llllll}\n",
       "  & snps & z & p.value & log.p.value & CV & OR\\\\\n",
       "  & <chr> & <dbl> & <dbl> & <dbl> & <int> & <dbl>\\\\\n",
       "\\hline\n",
       "\t587 & rs809264   & 1.580919 & 0.11389647 & -2.172465 & 2 & 1.144373\\\\\n",
       "\t1528 & rs11244037 & 2.137690 & 0.03254191 & -3.425227 & 1 & 1.088903\\\\\n",
       "\\end{tabular}\n"
      ],
      "text/markdown": [
       "\n",
       "A data.frame: 2 × 6\n",
       "\n",
       "| <!--/--> | snps &lt;chr&gt; | z &lt;dbl&gt; | p.value &lt;dbl&gt; | log.p.value &lt;dbl&gt; | CV &lt;int&gt; | OR &lt;dbl&gt; |\n",
       "|---|---|---|---|---|---|---|\n",
       "| 587 | rs809264   | 1.580919 | 0.11389647 | -2.172465 | 2 | 1.144373 |\n",
       "| 1528 | rs11244037 | 2.137690 | 0.03254191 | -3.425227 | 1 | 1.088903 |\n",
       "\n"
      ],
      "text/plain": [
       "     snps       z        p.value    log.p.value CV OR      \n",
       "587  rs809264   1.580919 0.11389647 -2.172465   2  1.144373\n",
       "1528 rs11244037 2.137690 0.03254191 -3.425227   1  1.088903"
      ]
     },
     "metadata": {},
     "output_type": "display_data"
    },
    {
     "data": {
      "text/html": [
       "<table class=\"dataframe\">\n",
       "<caption>A data.frame: 2 × 2</caption>\n",
       "<thead>\n",
       "\t<tr><th></th><th scope=col>rsid</th><th scope=col>maf</th></tr>\n",
       "\t<tr><th></th><th scope=col>&lt;chr&gt;</th><th scope=col>&lt;dbl&gt;</th></tr>\n",
       "</thead>\n",
       "<tbody>\n",
       "\t<tr><th scope=row>587</th><td>rs809264  </td><td>0.240815</td></tr>\n",
       "\t<tr><th scope=row>1528</th><td>rs11244037</td><td>0.102636</td></tr>\n",
       "</tbody>\n",
       "</table>\n"
      ],
      "text/latex": [
       "A data.frame: 2 × 2\n",
       "\\begin{tabular}{r|ll}\n",
       "  & rsid & maf\\\\\n",
       "  & <chr> & <dbl>\\\\\n",
       "\\hline\n",
       "\t587 & rs809264   & 0.240815\\\\\n",
       "\t1528 & rs11244037 & 0.102636\\\\\n",
       "\\end{tabular}\n"
      ],
      "text/markdown": [
       "\n",
       "A data.frame: 2 × 2\n",
       "\n",
       "| <!--/--> | rsid &lt;chr&gt; | maf &lt;dbl&gt; |\n",
       "|---|---|---|\n",
       "| 587 | rs809264   | 0.240815 |\n",
       "| 1528 | rs11244037 | 0.102636 |\n",
       "\n"
      ],
      "text/plain": [
       "     rsid       maf     \n",
       "587  rs809264   0.240815\n",
       "1528 rs11244037 0.102636"
      ]
     },
     "metadata": {},
     "output_type": "display_data"
    }
   ],
   "source": [
    "sum.stats[which(sum.stats$CV !=0),]\n",
    "vcf_maf_for_maf[which(sum.stats$CV !=0),]"
   ]
  },
  {
   "cell_type": "code",
   "execution_count": 107,
   "id": "c82cfe8d",
   "metadata": {
    "scrolled": true
   },
   "outputs": [
    {
     "data": {
      "text/html": [
       "0"
      ],
      "text/latex": [
       "0"
      ],
      "text/markdown": [
       "0"
      ],
      "text/plain": [
       "[1] 0"
      ]
     },
     "metadata": {},
     "output_type": "display_data"
    },
    {
     "data": {
      "text/html": [
       "<table class=\"dataframe\">\n",
       "<caption>A data.frame: 0 × 6</caption>\n",
       "<thead>\n",
       "\t<tr><th scope=col>snps</th><th scope=col>z</th><th scope=col>p.value</th><th scope=col>log.p.value</th><th scope=col>CV</th><th scope=col>OR</th></tr>\n",
       "\t<tr><th scope=col>&lt;chr&gt;</th><th scope=col>&lt;dbl&gt;</th><th scope=col>&lt;dbl&gt;</th><th scope=col>&lt;dbl&gt;</th><th scope=col>&lt;int&gt;</th><th scope=col>&lt;dbl&gt;</th></tr>\n",
       "</thead>\n",
       "<tbody>\n",
       "</tbody>\n",
       "</table>\n"
      ],
      "text/latex": [
       "A data.frame: 0 × 6\n",
       "\\begin{tabular}{llllll}\n",
       " snps & z & p.value & log.p.value & CV & OR\\\\\n",
       " <chr> & <dbl> & <dbl> & <dbl> & <int> & <dbl>\\\\\n",
       "\\hline\n",
       "\\end{tabular}\n"
      ],
      "text/markdown": [
       "\n",
       "A data.frame: 0 × 6\n",
       "\n",
       "| snps &lt;chr&gt; | z &lt;dbl&gt; | p.value &lt;dbl&gt; | log.p.value &lt;dbl&gt; | CV &lt;int&gt; | OR &lt;dbl&gt; |\n",
       "|---|---|---|---|---|---|\n",
       "\n"
      ],
      "text/plain": [
       "     snps z p.value log.p.value CV OR"
      ]
     },
     "metadata": {},
     "output_type": "display_data"
    }
   ],
   "source": [
    "sum(abs(sum.stats$log.p.value) == Inf, na.rm=T)\n",
    "sum.stats[which(is.na(sum.stats$log.p.value)),]"
   ]
  },
  {
   "cell_type": "code",
   "execution_count": 99,
   "id": "776a7191",
   "metadata": {},
   "outputs": [
    {
     "data": {
      "image/png": "[encoded data removed]",
      "text/plain": [
       "plot without title"
      ]
     },
     "metadata": {
      "image/png": {
       "height": 420,
       "width": 420
      }
     },
     "output_type": "display_data"
    }
   ],
   "source": [
    "ggplot(sum.stats, aes(x=1:nrow(sum.stats),y=-log10(p.value), color=CV!=0)) + \n",
    "    geom_point() + \n",
    "    geom_vline(xintercept=which(sum.stats$CV !=0)) +\n",
    "    theme_classic() +\n",
    "    ylab('-Log p value') + xlab('Variant')"
   ]
  },
  {
   "cell_type": "code",
   "execution_count": 80,
   "id": "44c30dd1",
   "metadata": {},
   "outputs": [
    {
     "data": {
      "text/html": [
       "<style>\n",
       ".list-inline {list-style: none; margin:0; padding: 0}\n",
       ".list-inline>li {display: inline-block}\n",
       ".list-inline>li:not(:last-child)::after {content: \"\\00b7\"; padding: 0 .5ex}\n",
       "</style>\n",
       "<ol class=list-inline><li>3478</li><li>3478</li></ol>\n"
      ],
      "text/latex": [
       "\\begin{enumerate*}\n",
       "\\item 3478\n",
       "\\item 3478\n",
       "\\end{enumerate*}\n"
      ],
      "text/markdown": [
       "1. 3478\n",
       "2. 3478\n",
       "\n",
       "\n"
      ],
      "text/plain": [
       "[1] 3478 3478"
      ]
     },
     "metadata": {},
     "output_type": "display_data"
    },
    {
     "data": {
      "text/html": [
       "<table class=\"dataframe\">\n",
       "<caption>A matrix: 6 × 3478 of type dbl</caption>\n",
       "<thead>\n",
       "\t<tr><th scope=col>rs218367</th><th scope=col>rs218369</th><th scope=col>rs177933</th><th scope=col>rs172637</th><th scope=col>rs218370</th><th scope=col>rs9984890</th><th scope=col>rs9984905</th><th scope=col>rs9981024</th><th scope=col>rs9985096</th><th scope=col>rs511247</th><th scope=col>⋯</th><th scope=col>rs56036790</th><th scope=col>rs4920006</th><th scope=col>rs6586259</th><th scope=col>rs7277472</th><th scope=col>rs78628864</th><th scope=col>rs2008193</th><th scope=col>rs1041452</th><th scope=col>rs9974287</th><th scope=col>rs2839600</th><th scope=col>rs2839601</th></tr>\n",
       "</thead>\n",
       "<tbody>\n",
       "\t<tr><td>1.000000</td><td>0.937913</td><td>0.653390</td><td>0.961824</td><td>0.652485</td><td>0.961762</td><td>0.961800</td><td>0.461720</td><td>0.455694</td><td>0.615886</td><td>⋯</td><td>-0.0302197</td><td>-0.0472993</td><td>0.1674840</td><td>0.1479020</td><td>-0.0711611</td><td>0.1115570</td><td>0.1102200</td><td>0.1674840</td><td>-0.0681848</td><td>0.166422</td></tr>\n",
       "\t<tr><td>0.937913</td><td>1.000000</td><td>0.698584</td><td>0.941209</td><td>0.697750</td><td>0.941175</td><td>0.941214</td><td>0.453064</td><td>0.448987</td><td>0.663635</td><td>⋯</td><td>-0.0372124</td><td>-0.0523575</td><td>0.1915180</td><td>0.1764520</td><td>-0.0799860</td><td>0.1298050</td><td>0.1276180</td><td>0.1915180</td><td>-0.0737996</td><td>0.185836</td></tr>\n",
       "\t<tr><td>0.653390</td><td>0.698584</td><td>1.000000</td><td>0.678650</td><td>0.997629</td><td>0.678831</td><td>0.679045</td><td>0.317778</td><td>0.313230</td><td>0.923210</td><td>⋯</td><td> 0.0233622</td><td>-0.0126719</td><td>0.0890617</td><td>0.0772797</td><td>-0.0663219</td><td>0.0590416</td><td>0.0573795</td><td>0.0890617</td><td>-0.0181241</td><td>0.103084</td></tr>\n",
       "\t<tr><td>0.961824</td><td>0.941209</td><td>0.678650</td><td>1.000000</td><td>0.677795</td><td>0.998042</td><td>0.998042</td><td>0.461074</td><td>0.455035</td><td>0.637564</td><td>⋯</td><td>-0.0303986</td><td>-0.0548102</td><td>0.1737670</td><td>0.1522800</td><td>-0.0704988</td><td>0.1156670</td><td>0.1144130</td><td>0.1737670</td><td>-0.0749208</td><td>0.171800</td></tr>\n",
       "\t<tr><td>0.652485</td><td>0.697750</td><td>0.997629</td><td>0.677795</td><td>1.000000</td><td>0.677974</td><td>0.678190</td><td>0.317814</td><td>0.313261</td><td>0.922243</td><td>⋯</td><td> 0.0230269</td><td>-0.0113578</td><td>0.0885185</td><td>0.0771606</td><td>-0.0668213</td><td>0.0590259</td><td>0.0565889</td><td>0.0885185</td><td>-0.0169044</td><td>0.102447</td></tr>\n",
       "\t<tr><td>0.961762</td><td>0.941175</td><td>0.678831</td><td>0.998042</td><td>0.677974</td><td>1.000000</td><td>0.999019</td><td>0.462412</td><td>0.458167</td><td>0.638674</td><td>⋯</td><td>-0.0300495</td><td>-0.0529689</td><td>0.1748450</td><td>0.1528260</td><td>-0.0701798</td><td>0.1168490</td><td>0.1156030</td><td>0.1748450</td><td>-0.0731062</td><td>0.172999</td></tr>\n",
       "</tbody>\n",
       "</table>\n"
      ],
      "text/latex": [
       "A matrix: 6 × 3478 of type dbl\n",
       "\\begin{tabular}{lllllllllllllllllllll}\n",
       " rs218367 & rs218369 & rs177933 & rs172637 & rs218370 & rs9984890 & rs9984905 & rs9981024 & rs9985096 & rs511247 & ⋯ & rs56036790 & rs4920006 & rs6586259 & rs7277472 & rs78628864 & rs2008193 & rs1041452 & rs9974287 & rs2839600 & rs2839601\\\\\n",
       "\\hline\n",
       "\t 1.000000 & 0.937913 & 0.653390 & 0.961824 & 0.652485 & 0.961762 & 0.961800 & 0.461720 & 0.455694 & 0.615886 & ⋯ & -0.0302197 & -0.0472993 & 0.1674840 & 0.1479020 & -0.0711611 & 0.1115570 & 0.1102200 & 0.1674840 & -0.0681848 & 0.166422\\\\\n",
       "\t 0.937913 & 1.000000 & 0.698584 & 0.941209 & 0.697750 & 0.941175 & 0.941214 & 0.453064 & 0.448987 & 0.663635 & ⋯ & -0.0372124 & -0.0523575 & 0.1915180 & 0.1764520 & -0.0799860 & 0.1298050 & 0.1276180 & 0.1915180 & -0.0737996 & 0.185836\\\\\n",
       "\t 0.653390 & 0.698584 & 1.000000 & 0.678650 & 0.997629 & 0.678831 & 0.679045 & 0.317778 & 0.313230 & 0.923210 & ⋯ &  0.0233622 & -0.0126719 & 0.0890617 & 0.0772797 & -0.0663219 & 0.0590416 & 0.0573795 & 0.0890617 & -0.0181241 & 0.103084\\\\\n",
       "\t 0.961824 & 0.941209 & 0.678650 & 1.000000 & 0.677795 & 0.998042 & 0.998042 & 0.461074 & 0.455035 & 0.637564 & ⋯ & -0.0303986 & -0.0548102 & 0.1737670 & 0.1522800 & -0.0704988 & 0.1156670 & 0.1144130 & 0.1737670 & -0.0749208 & 0.171800\\\\\n",
       "\t 0.652485 & 0.697750 & 0.997629 & 0.677795 & 1.000000 & 0.677974 & 0.678190 & 0.317814 & 0.313261 & 0.922243 & ⋯ &  0.0230269 & -0.0113578 & 0.0885185 & 0.0771606 & -0.0668213 & 0.0590259 & 0.0565889 & 0.0885185 & -0.0169044 & 0.102447\\\\\n",
       "\t 0.961762 & 0.941175 & 0.678831 & 0.998042 & 0.677974 & 1.000000 & 0.999019 & 0.462412 & 0.458167 & 0.638674 & ⋯ & -0.0300495 & -0.0529689 & 0.1748450 & 0.1528260 & -0.0701798 & 0.1168490 & 0.1156030 & 0.1748450 & -0.0731062 & 0.172999\\\\\n",
       "\\end{tabular}\n"
      ],
      "text/markdown": [
       "\n",
       "A matrix: 6 × 3478 of type dbl\n",
       "\n",
       "| rs218367 | rs218369 | rs177933 | rs172637 | rs218370 | rs9984890 | rs9984905 | rs9981024 | rs9985096 | rs511247 | ⋯ | rs56036790 | rs4920006 | rs6586259 | rs7277472 | rs78628864 | rs2008193 | rs1041452 | rs9974287 | rs2839600 | rs2839601 |\n",
       "|---|---|---|---|---|---|---|---|---|---|---|---|---|---|---|---|---|---|---|---|---|\n",
       "| 1.000000 | 0.937913 | 0.653390 | 0.961824 | 0.652485 | 0.961762 | 0.961800 | 0.461720 | 0.455694 | 0.615886 | ⋯ | -0.0302197 | -0.0472993 | 0.1674840 | 0.1479020 | -0.0711611 | 0.1115570 | 0.1102200 | 0.1674840 | -0.0681848 | 0.166422 |\n",
       "| 0.937913 | 1.000000 | 0.698584 | 0.941209 | 0.697750 | 0.941175 | 0.941214 | 0.453064 | 0.448987 | 0.663635 | ⋯ | -0.0372124 | -0.0523575 | 0.1915180 | 0.1764520 | -0.0799860 | 0.1298050 | 0.1276180 | 0.1915180 | -0.0737996 | 0.185836 |\n",
       "| 0.653390 | 0.698584 | 1.000000 | 0.678650 | 0.997629 | 0.678831 | 0.679045 | 0.317778 | 0.313230 | 0.923210 | ⋯ |  0.0233622 | -0.0126719 | 0.0890617 | 0.0772797 | -0.0663219 | 0.0590416 | 0.0573795 | 0.0890617 | -0.0181241 | 0.103084 |\n",
       "| 0.961824 | 0.941209 | 0.678650 | 1.000000 | 0.677795 | 0.998042 | 0.998042 | 0.461074 | 0.455035 | 0.637564 | ⋯ | -0.0303986 | -0.0548102 | 0.1737670 | 0.1522800 | -0.0704988 | 0.1156670 | 0.1144130 | 0.1737670 | -0.0749208 | 0.171800 |\n",
       "| 0.652485 | 0.697750 | 0.997629 | 0.677795 | 1.000000 | 0.677974 | 0.678190 | 0.317814 | 0.313261 | 0.922243 | ⋯ |  0.0230269 | -0.0113578 | 0.0885185 | 0.0771606 | -0.0668213 | 0.0590259 | 0.0565889 | 0.0885185 | -0.0169044 | 0.102447 |\n",
       "| 0.961762 | 0.941175 | 0.678831 | 0.998042 | 0.677974 | 1.000000 | 0.999019 | 0.462412 | 0.458167 | 0.638674 | ⋯ | -0.0300495 | -0.0529689 | 0.1748450 | 0.1528260 | -0.0701798 | 0.1168490 | 0.1156030 | 0.1748450 | -0.0731062 | 0.172999 |\n",
       "\n"
      ],
      "text/plain": [
       "     rs218367 rs218369 rs177933 rs172637 rs218370 rs9984890 rs9984905 rs9981024\n",
       "[1,] 1.000000 0.937913 0.653390 0.961824 0.652485 0.961762  0.961800  0.461720 \n",
       "[2,] 0.937913 1.000000 0.698584 0.941209 0.697750 0.941175  0.941214  0.453064 \n",
       "[3,] 0.653390 0.698584 1.000000 0.678650 0.997629 0.678831  0.679045  0.317778 \n",
       "[4,] 0.961824 0.941209 0.678650 1.000000 0.677795 0.998042  0.998042  0.461074 \n",
       "[5,] 0.652485 0.697750 0.997629 0.677795 1.000000 0.677974  0.678190  0.317814 \n",
       "[6,] 0.961762 0.941175 0.678831 0.998042 0.677974 1.000000  0.999019  0.462412 \n",
       "     rs9985096 rs511247 ⋯ rs56036790 rs4920006  rs6586259 rs7277472 rs78628864\n",
       "[1,] 0.455694  0.615886 ⋯ -0.0302197 -0.0472993 0.1674840 0.1479020 -0.0711611\n",
       "[2,] 0.448987  0.663635 ⋯ -0.0372124 -0.0523575 0.1915180 0.1764520 -0.0799860\n",
       "[3,] 0.313230  0.923210 ⋯  0.0233622 -0.0126719 0.0890617 0.0772797 -0.0663219\n",
       "[4,] 0.455035  0.637564 ⋯ -0.0303986 -0.0548102 0.1737670 0.1522800 -0.0704988\n",
       "[5,] 0.313261  0.922243 ⋯  0.0230269 -0.0113578 0.0885185 0.0771606 -0.0668213\n",
       "[6,] 0.458167  0.638674 ⋯ -0.0300495 -0.0529689 0.1748450 0.1528260 -0.0701798\n",
       "     rs2008193 rs1041452 rs9974287 rs2839600  rs2839601\n",
       "[1,] 0.1115570 0.1102200 0.1674840 -0.0681848 0.166422 \n",
       "[2,] 0.1298050 0.1276180 0.1915180 -0.0737996 0.185836 \n",
       "[3,] 0.0590416 0.0573795 0.0890617 -0.0181241 0.103084 \n",
       "[4,] 0.1156670 0.1144130 0.1737670 -0.0749208 0.171800 \n",
       "[5,] 0.0590259 0.0565889 0.0885185 -0.0169044 0.102447 \n",
       "[6,] 0.1168490 0.1156030 0.1748450 -0.0731062 0.172999 "
      ]
     },
     "metadata": {},
     "output_type": "display_data"
    }
   ],
   "source": [
    "snps <- unlist(read.table(paste0('simulation_summary_stats/',Region,'_snp_maf_0.05.snp')))\n",
    "r <- data.table::fread(paste0('1KGP_Regions/',Region,'.r.maf.order.ld'))\n",
    "colnames(r) <- snps\n",
    "rownames(r) <- snps\n",
    "r <- as.matrix(r)\n",
    "\n",
    "dim(r)\n",
    "head(r)"
   ]
  },
  {
   "cell_type": "code",
   "execution_count": 81,
   "id": "c9f3b001",
   "metadata": {},
   "outputs": [
    {
     "data": {
      "text/html": [
       "0"
      ],
      "text/latex": [
       "0"
      ],
      "text/markdown": [
       "0"
      ],
      "text/plain": [
       "[1] 0"
      ]
     },
     "metadata": {},
     "output_type": "display_data"
    }
   ],
   "source": [
    "sum(is.na(r))"
   ]
  },
  {
   "cell_type": "markdown",
   "id": "2243d1a4",
   "metadata": {},
   "source": [
    "# SuSiE"
   ]
  },
  {
   "cell_type": "code",
   "execution_count": null,
   "id": "616427ec",
   "metadata": {},
   "outputs": [],
   "source": []
  },
  {
   "cell_type": "markdown",
   "id": "fcd30761",
   "metadata": {},
   "source": [
    "# FINEMAP"
   ]
  },
  {
   "cell_type": "code",
   "execution_count": 117,
   "id": "58334ff8",
   "metadata": {},
   "outputs": [
    {
     "name": "stderr",
     "output_type": "stream",
     "text": [
      "\u001b[1m\u001b[22mJoining with `by = join_by(snps)`\n"
     ]
    },
    {
     "data": {
      "text/html": [
       "0"
      ],
      "text/latex": [
       "0"
      ],
      "text/markdown": [
       "0"
      ],
      "text/plain": [
       "[1] 0"
      ]
     },
     "metadata": {},
     "output_type": "display_data"
    },
    {
     "data": {
      "text/html": [
       "<style>\n",
       ".list-inline {list-style: none; margin:0; padding: 0}\n",
       ".list-inline>li {display: inline-block}\n",
       ".list-inline>li:not(:last-child)::after {content: \"\\00b7\"; padding: 0 .5ex}\n",
       "</style>\n",
       "<ol class=list-inline><li>2665</li><li>11</li></ol>\n"
      ],
      "text/latex": [
       "\\begin{enumerate*}\n",
       "\\item 2665\n",
       "\\item 11\n",
       "\\end{enumerate*}\n"
      ],
      "text/markdown": [
       "1. 2665\n",
       "2. 11\n",
       "\n",
       "\n"
      ],
      "text/plain": [
       "[1] 2665   11"
      ]
     },
     "metadata": {},
     "output_type": "display_data"
    },
    {
     "data": {
      "text/html": [
       "<table class=\"dataframe\">\n",
       "<caption>A data.frame: 6 × 11</caption>\n",
       "<thead>\n",
       "\t<tr><th></th><th scope=col>snps</th><th scope=col>z</th><th scope=col>p.value</th><th scope=col>log.p.value</th><th scope=col>CV</th><th scope=col>OR</th><th scope=col>maf</th><th scope=col>chr</th><th scope=col>pos</th><th scope=col>ref</th><th scope=col>alt</th></tr>\n",
       "\t<tr><th></th><th scope=col>&lt;chr&gt;</th><th scope=col>&lt;dbl&gt;</th><th scope=col>&lt;dbl&gt;</th><th scope=col>&lt;dbl&gt;</th><th scope=col>&lt;int&gt;</th><th scope=col>&lt;dbl&gt;</th><th scope=col>&lt;dbl&gt;</th><th scope=col>&lt;int&gt;</th><th scope=col>&lt;int&gt;</th><th scope=col>&lt;chr&gt;</th><th scope=col>&lt;chr&gt;</th></tr>\n",
       "</thead>\n",
       "<tbody>\n",
       "\t<tr><th scope=row>1</th><td>rs7024404 </td><td>-1.0410582</td><td>0.2978486</td><td>-1.2111701</td><td>0</td><td>1</td><td>0.4600640</td><td>9</td><td>135437285</td><td>A</td><td>G</td></tr>\n",
       "\t<tr><th scope=row>2</th><td>rs4962191 </td><td>-0.5416807</td><td>0.5880385</td><td>-0.5309629</td><td>0</td><td>1</td><td>0.2891370</td><td>9</td><td>135437812</td><td>A</td><td>T</td></tr>\n",
       "\t<tr><th scope=row>3</th><td>rs4962192 </td><td>-0.3180073</td><td>0.7504794</td><td>-0.2870431</td><td>0</td><td>1</td><td>0.2128590</td><td>9</td><td>135438097</td><td>T</td><td>A</td></tr>\n",
       "\t<tr><th scope=row>4</th><td>rs60358479</td><td>-0.4685900</td><td>0.6393627</td><td>-0.4472834</td><td>0</td><td>1</td><td>0.0764776</td><td>9</td><td>135438468</td><td>A</td><td>C</td></tr>\n",
       "\t<tr><th scope=row>5</th><td>rs17149294</td><td>-0.4358003</td><td>0.6629816</td><td>-0.4110080</td><td>0</td><td>1</td><td>0.0976438</td><td>9</td><td>135441627</td><td>A</td><td>G</td></tr>\n",
       "\t<tr><th scope=row>6</th><td>rs17149298</td><td>-0.4353291</td><td>0.6633236</td><td>-0.4104924</td><td>0</td><td>1</td><td>0.0940495</td><td>9</td><td>135441661</td><td>C</td><td>T</td></tr>\n",
       "</tbody>\n",
       "</table>\n"
      ],
      "text/latex": [
       "A data.frame: 6 × 11\n",
       "\\begin{tabular}{r|lllllllllll}\n",
       "  & snps & z & p.value & log.p.value & CV & OR & maf & chr & pos & ref & alt\\\\\n",
       "  & <chr> & <dbl> & <dbl> & <dbl> & <int> & <dbl> & <dbl> & <int> & <int> & <chr> & <chr>\\\\\n",
       "\\hline\n",
       "\t1 & rs7024404  & -1.0410582 & 0.2978486 & -1.2111701 & 0 & 1 & 0.4600640 & 9 & 135437285 & A & G\\\\\n",
       "\t2 & rs4962191  & -0.5416807 & 0.5880385 & -0.5309629 & 0 & 1 & 0.2891370 & 9 & 135437812 & A & T\\\\\n",
       "\t3 & rs4962192  & -0.3180073 & 0.7504794 & -0.2870431 & 0 & 1 & 0.2128590 & 9 & 135438097 & T & A\\\\\n",
       "\t4 & rs60358479 & -0.4685900 & 0.6393627 & -0.4472834 & 0 & 1 & 0.0764776 & 9 & 135438468 & A & C\\\\\n",
       "\t5 & rs17149294 & -0.4358003 & 0.6629816 & -0.4110080 & 0 & 1 & 0.0976438 & 9 & 135441627 & A & G\\\\\n",
       "\t6 & rs17149298 & -0.4353291 & 0.6633236 & -0.4104924 & 0 & 1 & 0.0940495 & 9 & 135441661 & C & T\\\\\n",
       "\\end{tabular}\n"
      ],
      "text/markdown": [
       "\n",
       "A data.frame: 6 × 11\n",
       "\n",
       "| <!--/--> | snps &lt;chr&gt; | z &lt;dbl&gt; | p.value &lt;dbl&gt; | log.p.value &lt;dbl&gt; | CV &lt;int&gt; | OR &lt;dbl&gt; | maf &lt;dbl&gt; | chr &lt;int&gt; | pos &lt;int&gt; | ref &lt;chr&gt; | alt &lt;chr&gt; |\n",
       "|---|---|---|---|---|---|---|---|---|---|---|---|\n",
       "| 1 | rs7024404  | -1.0410582 | 0.2978486 | -1.2111701 | 0 | 1 | 0.4600640 | 9 | 135437285 | A | G |\n",
       "| 2 | rs4962191  | -0.5416807 | 0.5880385 | -0.5309629 | 0 | 1 | 0.2891370 | 9 | 135437812 | A | T |\n",
       "| 3 | rs4962192  | -0.3180073 | 0.7504794 | -0.2870431 | 0 | 1 | 0.2128590 | 9 | 135438097 | T | A |\n",
       "| 4 | rs60358479 | -0.4685900 | 0.6393627 | -0.4472834 | 0 | 1 | 0.0764776 | 9 | 135438468 | A | C |\n",
       "| 5 | rs17149294 | -0.4358003 | 0.6629816 | -0.4110080 | 0 | 1 | 0.0976438 | 9 | 135441627 | A | G |\n",
       "| 6 | rs17149298 | -0.4353291 | 0.6633236 | -0.4104924 | 0 | 1 | 0.0940495 | 9 | 135441661 | C | T |\n",
       "\n"
      ],
      "text/plain": [
       "  snps       z          p.value   log.p.value CV OR maf       chr pos       ref\n",
       "1 rs7024404  -1.0410582 0.2978486 -1.2111701  0  1  0.4600640 9   135437285 A  \n",
       "2 rs4962191  -0.5416807 0.5880385 -0.5309629  0  1  0.2891370 9   135437812 A  \n",
       "3 rs4962192  -0.3180073 0.7504794 -0.2870431  0  1  0.2128590 9   135438097 T  \n",
       "4 rs60358479 -0.4685900 0.6393627 -0.4472834  0  1  0.0764776 9   135438468 A  \n",
       "5 rs17149294 -0.4358003 0.6629816 -0.4110080  0  1  0.0976438 9   135441627 A  \n",
       "6 rs17149298 -0.4353291 0.6633236 -0.4104924  0  1  0.0940495 9   135441661 C  \n",
       "  alt\n",
       "1 G  \n",
       "2 T  \n",
       "3 A  \n",
       "4 C  \n",
       "5 G  \n",
       "6 T  "
      ]
     },
     "metadata": {},
     "output_type": "display_data"
    }
   ],
   "source": [
    "sum.stats.maf <- left_join(left_join(sum.stats, vcf_maf_for_maf, join_by(snps==rsid)),\n",
    "                           select(vcf_maf, chr=V1, pos=V2, snps=V3, ref=V4, alt=V5))\n",
    "\n",
    "sum(is.na(sum.stats.maf$maf))\n",
    "dim(sum.stats.maf)\n",
    "head(sum.stats.maf)"
   ]
  },
  {
   "cell_type": "code",
   "execution_count": 120,
   "id": "c530843d",
   "metadata": {},
   "outputs": [],
   "source": [
    "finemap.in <- select(sum.stats.maf, rsid=snps, chromosome=chr,\n",
    "      position=pos, allele1=ref, allele2=alt, maf=maf, \n",
    "      beta=z)\n",
    "finemap.in$se <- 1\n",
    "\n",
    "write.table(finemap.in,\n",
    "            paste0('simulation_summary_stats/',\n",
    "                               Region,'_',seed,\n",
    "                               '/ss_',n_CV,'_CV_',n_Ctrl,'_ctrl_',n_Case,'_case.finemap.z'),\n",
    "            col.names=T, row.names=F, quote=F, sep=' ')"
   ]
  },
  {
   "cell_type": "code",
   "execution_count": 125,
   "id": "eae23e77",
   "metadata": {},
   "outputs": [
    {
     "data": {
      "text/html": [
       "<table class=\"dataframe\">\n",
       "<caption>A data.frame: 1 × 7</caption>\n",
       "<thead>\n",
       "\t<tr><th scope=col>z</th><th scope=col>ld</th><th scope=col>snp</th><th scope=col>config</th><th scope=col>cred</th><th scope=col>log</th><th scope=col>n_samples</th></tr>\n",
       "\t<tr><th scope=col>&lt;chr&gt;</th><th scope=col>&lt;chr&gt;</th><th scope=col>&lt;chr&gt;</th><th scope=col>&lt;chr&gt;</th><th scope=col>&lt;chr&gt;</th><th scope=col>&lt;chr&gt;</th><th scope=col>&lt;dbl&gt;</th></tr>\n",
       "</thead>\n",
       "<tbody>\n",
       "\t<tr><td>simulation_summary_stats/1KGP_hg19_CEL_1MB.vcf.gz_4/ss_2_CV_20000_ctrl_2000_case.finemap.z</td><td>1KGP_Regions/1KGP_hg19_CEL_1MB.vcf.gz.r.maf.order.ld</td><td>finemapping_results/1KGP_hg19_CEL_1MB.vcf.gz_4/ss_2_CV_20000_ctrl_2000_case.finemap.snp</td><td>finemapping_results/1KGP_hg19_CEL_1MB.vcf.gz_4/ss_2_CV_20000_ctrl_2000_case.finemap.config</td><td>finemapping_results/1KGP_hg19_CEL_1MB.vcf.gz_4/finemapping_results2_CV_20000_ctrl_2000_case.finemap.cred</td><td>simulation_summary_stats/1KGP_hg19_CEL_1MB.vcf.gz_4/ss_2_CV_20000_ctrl_2000_case.finemap.log</td><td>22000</td></tr>\n",
       "</tbody>\n",
       "</table>\n"
      ],
      "text/latex": [
       "A data.frame: 1 × 7\n",
       "\\begin{tabular}{lllllll}\n",
       " z & ld & snp & config & cred & log & n\\_samples\\\\\n",
       " <chr> & <chr> & <chr> & <chr> & <chr> & <chr> & <dbl>\\\\\n",
       "\\hline\n",
       "\t simulation\\_summary\\_stats/1KGP\\_hg19\\_CEL\\_1MB.vcf.gz\\_4/ss\\_2\\_CV\\_20000\\_ctrl\\_2000\\_case.finemap.z & 1KGP\\_Regions/1KGP\\_hg19\\_CEL\\_1MB.vcf.gz.r.maf.order.ld & finemapping\\_results/1KGP\\_hg19\\_CEL\\_1MB.vcf.gz\\_4/ss\\_2\\_CV\\_20000\\_ctrl\\_2000\\_case.finemap.snp & finemapping\\_results/1KGP\\_hg19\\_CEL\\_1MB.vcf.gz\\_4/ss\\_2\\_CV\\_20000\\_ctrl\\_2000\\_case.finemap.config & finemapping\\_results/1KGP\\_hg19\\_CEL\\_1MB.vcf.gz\\_4/finemapping\\_results2\\_CV\\_20000\\_ctrl\\_2000\\_case.finemap.cred & simulation\\_summary\\_stats/1KGP\\_hg19\\_CEL\\_1MB.vcf.gz\\_4/ss\\_2\\_CV\\_20000\\_ctrl\\_2000\\_case.finemap.log & 22000\\\\\n",
       "\\end{tabular}\n"
      ],
      "text/markdown": [
       "\n",
       "A data.frame: 1 × 7\n",
       "\n",
       "| z &lt;chr&gt; | ld &lt;chr&gt; | snp &lt;chr&gt; | config &lt;chr&gt; | cred &lt;chr&gt; | log &lt;chr&gt; | n_samples &lt;dbl&gt; |\n",
       "|---|---|---|---|---|---|---|\n",
       "| simulation_summary_stats/1KGP_hg19_CEL_1MB.vcf.gz_4/ss_2_CV_20000_ctrl_2000_case.finemap.z | 1KGP_Regions/1KGP_hg19_CEL_1MB.vcf.gz.r.maf.order.ld | finemapping_results/1KGP_hg19_CEL_1MB.vcf.gz_4/ss_2_CV_20000_ctrl_2000_case.finemap.snp | finemapping_results/1KGP_hg19_CEL_1MB.vcf.gz_4/ss_2_CV_20000_ctrl_2000_case.finemap.config | finemapping_results/1KGP_hg19_CEL_1MB.vcf.gz_4/finemapping_results2_CV_20000_ctrl_2000_case.finemap.cred | simulation_summary_stats/1KGP_hg19_CEL_1MB.vcf.gz_4/ss_2_CV_20000_ctrl_2000_case.finemap.log | 22000 |\n",
       "\n"
      ],
      "text/plain": [
       "  z                                                                                         \n",
       "1 simulation_summary_stats/1KGP_hg19_CEL_1MB.vcf.gz_4/ss_2_CV_20000_ctrl_2000_case.finemap.z\n",
       "  ld                                                  \n",
       "1 1KGP_Regions/1KGP_hg19_CEL_1MB.vcf.gz.r.maf.order.ld\n",
       "  snp                                                                                    \n",
       "1 finemapping_results/1KGP_hg19_CEL_1MB.vcf.gz_4/ss_2_CV_20000_ctrl_2000_case.finemap.snp\n",
       "  config                                                                                    \n",
       "1 finemapping_results/1KGP_hg19_CEL_1MB.vcf.gz_4/ss_2_CV_20000_ctrl_2000_case.finemap.config\n",
       "  cred                                                                                                    \n",
       "1 finemapping_results/1KGP_hg19_CEL_1MB.vcf.gz_4/finemapping_results2_CV_20000_ctrl_2000_case.finemap.cred\n",
       "  log                                                                                         \n",
       "1 simulation_summary_stats/1KGP_hg19_CEL_1MB.vcf.gz_4/ss_2_CV_20000_ctrl_2000_case.finemap.log\n",
       "  n_samples\n",
       "1 22000    "
      ]
     },
     "metadata": {},
     "output_type": "display_data"
    }
   ],
   "source": [
    "dir.create(paste0('finemapping_results/',Region,'_',seed), recursive=T)\n",
    "\n",
    "finemap_master <- data.frame(z=paste0('simulation_summary_stats/',\n",
    "                               Region,'_',seed,\n",
    "                               '/ss_',n_CV,'_CV_',n_Ctrl,'_ctrl_',n_Case,'_case.finemap.z'),\n",
    "           ld=paste0('1KGP_Regions/',Region,'.r.maf.order.ld'),\n",
    "           snp=paste0('finemapping_results/',\n",
    "                               Region,'_',seed,\n",
    "                               '/ss_',n_CV,'_CV_',n_Ctrl,'_ctrl_',n_Case,'_case.finemap.snp'),\n",
    "           config=paste0('finemapping_results/',\n",
    "                               Region,'_',seed,\n",
    "                               '/ss_',n_CV,'_CV_',n_Ctrl,'_ctrl_',n_Case,'_case.finemap.config'),\n",
    "           cred=paste0('finemapping_results/',\n",
    "                               Region,'_',seed,\n",
    "                               '/finemapping_results',n_CV,'_CV_',n_Ctrl,'_ctrl_',n_Case,'_case.finemap.cred'),\n",
    "           log=paste0('finemapping_results/',\n",
    "                               Region,'_',seed,\n",
    "                               '/ss_',n_CV,'_CV_',n_Ctrl,'_ctrl_',n_Case,'_case.finemap.log'),\n",
    "           n_samples=(n_Ctrl + n_Case))\n",
    "finemap_master"
   ]
  },
  {
   "cell_type": "code",
   "execution_count": 126,
   "id": "1ffaee6d",
   "metadata": {},
   "outputs": [],
   "source": [
    "write.table(finemap_master,paste0('finemapping_results/',\n",
    "                               Region,'_',seed,\n",
    "                               '/ss_',n_CV,'_CV_',n_Ctrl,'_ctrl_',n_Case,'_case.finemap.master'),\n",
    "           quote=F, col.names=T, row.names=F, sep=';')"
   ]
  },
  {
   "cell_type": "code",
   "execution_count": 127,
   "id": "1a92bf85",
   "metadata": {},
   "outputs": [],
   "source": [
    "write.table(paste0('finemap --sss --in-files ', 'finemapping_results/',\n",
    "                               Region,'_',seed,\n",
    "                               '/ss_',n_CV,'_CV_',n_Ctrl,'_ctrl_',n_Case,'_case.finemap.master'),\n",
    "           paste0('finemapping_results/',\n",
    "                               Region,'_',seed,\n",
    "                               '/ss_',n_CV,'_CV_',n_Ctrl,'_ctrl_',n_Case,'_case.finemap.sh'),\n",
    "           quote=F, col.names=F, row.names=F)"
   ]
  },
  {
   "cell_type": "markdown",
   "id": "d907c061",
   "metadata": {},
   "source": [
    "# Infinitesimal Inputs"
   ]
  },
  {
   "cell_type": "code",
   "execution_count": 138,
   "id": "5483a944",
   "metadata": {},
   "outputs": [],
   "source": [
    "write.table(paste0('python ../tools/fine-mapping-inf/run_fine_mapping.py --sumstats ', \n",
    "                   'simulation_summary_stats/',\n",
    "                               Region,'_',seed,\n",
    "                               '/ss_',n_CV,'_CV_',n_Ctrl,'_ctrl_',n_Case,'_case.finemap.z',\n",
    "                   ' --z-col-name beta --ld-file ',\n",
    "                   '1KGP_Regions/',Region,'.r.maf.order.ld.gz'\n",
    "                   ,' --n ', (n_Ctrl + n_Case),\n",
    "                   ' --save-tsv --output-prefix ',\n",
    "                   'finemapping_results/',\n",
    "                               Region,'_',seed,\n",
    "                               '/ss_',n_CV,'_CV_',n_Ctrl,'_ctrl_',n_Case,'_case.inf'\n",
    "                   ,' > ', 'finemapping_results/',\n",
    "                               Region,'_',seed,\n",
    "                               '/ss_',n_CV,'_CV_',n_Ctrl,'_ctrl_',n_Case,'_case.inf.log'),\n",
    "           paste0('finemapping_results/',\n",
    "                               Region,'_',seed,\n",
    "                               '/ss_',n_CV,'_CV_',n_Ctrl,'_ctrl_',n_Case,'_case.inf.sh'),\n",
    "           quote=F, col.names=F, row.names=F)"
   ]
  },
  {
   "cell_type": "code",
   "execution_count": null,
   "id": "421052ae",
   "metadata": {},
   "outputs": [],
   "source": []
  },
  {
   "cell_type": "code",
   "execution_count": null,
   "id": "a6254279",
   "metadata": {},
   "outputs": [],
   "source": []
  },
  {
   "cell_type": "code",
   "execution_count": null,
   "id": "a0b83ae6",
   "metadata": {},
   "outputs": [],
   "source": []
  },
  {
   "cell_type": "code",
   "execution_count": null,
   "id": "34f0625f",
   "metadata": {},
   "outputs": [],
   "source": []
  },
  {
   "cell_type": "markdown",
   "id": "bbb3a008",
   "metadata": {},
   "source": [
    "# Run SuSiE"
   ]
  },
  {
   "cell_type": "code",
   "execution_count": null,
   "id": "89d34f12",
   "metadata": {},
   "outputs": [],
   "source": [
    "sum.stats <- read.table(paste0('simulation_summary_stats/',\n",
    "                               Region,'_',seed,\n",
    "                               '/ss_',n_CV,'_CV_',n_Ctrl,'_ctrl_',n_Case,'_case.tsv'), header=T)\n",
    "\n",
    "dim(sum.stats)\n",
    "head(sum.stats)"
   ]
  },
  {
   "cell_type": "code",
   "execution_count": null,
   "id": "ea6dfbe5",
   "metadata": {},
   "outputs": [],
   "source": [
    "snps <- unlist(read.table(paste0('simulation_summary_stats/',Region,'_snp_maf_0.05.snp')))\n",
    "r <- data.table::fread(paste0('1KGP_Regions/',Region,'.r.maf.order.ld'))\n",
    "colnames(r) <- snps\n",
    "rownames(r) <- snps\n",
    "r <- as.matrix(r)\n",
    "\n",
    "dim(r)\n",
    "head(r)"
   ]
  },
  {
   "cell_type": "code",
   "execution_count": null,
   "id": "e4d9aa95",
   "metadata": {},
   "outputs": [],
   "source": []
  },
  {
   "cell_type": "code",
   "execution_count": null,
   "id": "758d8f39",
   "metadata": {},
   "outputs": [],
   "source": []
  },
  {
   "cell_type": "code",
   "execution_count": null,
   "id": "8ced53da",
   "metadata": {},
   "outputs": [],
   "source": []
  },
  {
   "cell_type": "code",
   "execution_count": null,
   "id": "28917827",
   "metadata": {},
   "outputs": [],
   "source": []
  },
  {
   "cell_type": "code",
   "execution_count": 82,
   "id": "3e9ceadb",
   "metadata": {},
   "outputs": [
    {
     "data": {
      "text/html": [
       "<table class=\"dataframe\">\n",
       "<caption>A matrix: 2 × 6 of type dbl</caption>\n",
       "<thead>\n",
       "\t<tr><th></th><th scope=col>used</th><th scope=col>(Mb)</th><th scope=col>gc trigger</th><th scope=col>(Mb)</th><th scope=col>max used</th><th scope=col>(Mb)</th></tr>\n",
       "</thead>\n",
       "<tbody>\n",
       "\t<tr><th scope=row>Ncells</th><td> 2232478</td><td>119.3</td><td>  3940308</td><td> 210.5</td><td>   3940308</td><td> 210.5</td></tr>\n",
       "\t<tr><th scope=row>Vcells</th><td>31747659</td><td>242.3</td><td>834036640</td><td>6363.2</td><td>1085046904</td><td>8278.3</td></tr>\n",
       "</tbody>\n",
       "</table>\n"
      ],
      "text/latex": [
       "A matrix: 2 × 6 of type dbl\n",
       "\\begin{tabular}{r|llllll}\n",
       "  & used & (Mb) & gc trigger & (Mb) & max used & (Mb)\\\\\n",
       "\\hline\n",
       "\tNcells &  2232478 & 119.3 &   3940308 &  210.5 &    3940308 &  210.5\\\\\n",
       "\tVcells & 31747659 & 242.3 & 834036640 & 6363.2 & 1085046904 & 8278.3\\\\\n",
       "\\end{tabular}\n"
      ],
      "text/markdown": [
       "\n",
       "A matrix: 2 × 6 of type dbl\n",
       "\n",
       "| <!--/--> | used | (Mb) | gc trigger | (Mb) | max used | (Mb) |\n",
       "|---|---|---|---|---|---|---|\n",
       "| Ncells |  2232478 | 119.3 |   3940308 |  210.5 |    3940308 |  210.5 |\n",
       "| Vcells | 31747659 | 242.3 | 834036640 | 6363.2 | 1085046904 | 8278.3 |\n",
       "\n"
      ],
      "text/plain": [
       "       used     (Mb)  gc trigger (Mb)   max used   (Mb)  \n",
       "Ncells  2232478 119.3   3940308   210.5    3940308  210.5\n",
       "Vcells 31747659 242.3 834036640  6363.2 1085046904 8278.3"
      ]
     },
     "metadata": {},
     "output_type": "display_data"
    }
   ],
   "source": [
    "gc()"
   ]
  },
  {
   "cell_type": "code",
   "execution_count": 27,
   "id": "7dd0aab8",
   "metadata": {},
   "outputs": [
    {
     "name": "stderr",
     "output_type": "stream",
     "text": [
      "\u001b[1m\u001b[4m\u001b[31mWARNING:\u001b[39m\u001b[24m\u001b[22m The matrix R is not positive semidefinite. Negative eigenvalues are set to zero.\n",
      "\n",
      "\u001b[1m\u001b[4m\u001b[31mWARNING:\u001b[39m\u001b[24m\u001b[22m The matrix R is not positive semidefinite. Negative eigenvalues are set to zero\n",
      "\n"
     ]
    },
    {
     "data": {
      "image/png": "[encoded data removed]",
      "text/plain": [
       "plot without title"
      ]
     },
     "metadata": {
      "image/png": {
       "height": 420,
       "width": 420
      }
     },
     "output_type": "display_data"
    }
   ],
   "source": [
    "condz_in = kriging_rss(sum.stats$z, r, n=40000)\n",
    "condz_in$plot"
   ]
  },
  {
   "cell_type": "code",
   "execution_count": 30,
   "id": "4e5dbc3f",
   "metadata": {},
   "outputs": [
    {
     "name": "stderr",
     "output_type": "stream",
     "text": [
      "\u001b[1m\u001b[4m\u001b[35mHINT:\u001b[39m\u001b[24m\u001b[22m For large R or large XtX, consider installing the Rfast package for better performance.\n",
      "\n",
      "\u001b[1m\u001b[4m\u001b[31mWARNING:\u001b[39m\u001b[24m\u001b[22m XtX is not symmetric; forcing XtX to be symmetric by replacing XtX with (XtX + t(XtX))/2\n",
      "\n"
     ]
    }
   ],
   "source": [
    "susie_results <- susie_rss(z=sum.stats$z, R=r_fix, n=40000)"
   ]
  },
  {
   "cell_type": "code",
   "execution_count": 32,
   "id": "1474e2e5",
   "metadata": {},
   "outputs": [
    {
     "data": {
      "text/html": [
       "<dl>\n",
       "\t<dt>$vars</dt>\n",
       "\t\t<dd><table class=\"dataframe\">\n",
       "<caption>A data.frame: 1878 × 3</caption>\n",
       "<thead>\n",
       "\t<tr><th></th><th scope=col>variable</th><th scope=col>variable_prob</th><th scope=col>cs</th></tr>\n",
       "\t<tr><th></th><th scope=col>&lt;dbl&gt;</th><th scope=col>&lt;dbl&gt;</th><th scope=col>&lt;dbl&gt;</th></tr>\n",
       "</thead>\n",
       "<tbody>\n",
       "\t<tr><th scope=row>1017</th><td>1017</td><td>2.664668e-01</td><td> 1</td></tr>\n",
       "\t<tr><th scope=row>1007</th><td>1007</td><td>1.930711e-01</td><td> 1</td></tr>\n",
       "\t<tr><th scope=row>1016</th><td>1016</td><td>1.613054e-01</td><td> 1</td></tr>\n",
       "\t<tr><th scope=row>1013</th><td>1013</td><td>1.287878e-01</td><td> 1</td></tr>\n",
       "\t<tr><th scope=row>1021</th><td>1021</td><td>1.272067e-01</td><td> 1</td></tr>\n",
       "\t<tr><th scope=row>1023</th><td>1023</td><td>4.024302e-02</td><td> 1</td></tr>\n",
       "\t<tr><th scope=row>1018</th><td>1018</td><td>1.862971e-02</td><td> 1</td></tr>\n",
       "\t<tr><th scope=row>1022</th><td>1022</td><td>1.408566e-02</td><td> 1</td></tr>\n",
       "\t<tr><th scope=row>1025</th><td>1025</td><td>1.390085e-02</td><td> 1</td></tr>\n",
       "\t<tr><th scope=row>1026</th><td>1026</td><td>1.258617e-02</td><td>-1</td></tr>\n",
       "\t<tr><th scope=row>1024</th><td>1024</td><td>1.227651e-02</td><td>-1</td></tr>\n",
       "\t<tr><th scope=row>1027</th><td>1027</td><td>1.070711e-02</td><td>-1</td></tr>\n",
       "\t<tr><th scope=row>1032</th><td>1032</td><td>2.215982e-04</td><td>-1</td></tr>\n",
       "\t<tr><th scope=row>1043</th><td>1043</td><td>1.343909e-04</td><td>-1</td></tr>\n",
       "\t<tr><th scope=row>1095</th><td>1095</td><td>8.638740e-05</td><td>-1</td></tr>\n",
       "\t<tr><th scope=row>1103</th><td>1103</td><td>5.433512e-05</td><td>-1</td></tr>\n",
       "\t<tr><th scope=row>1040</th><td>1040</td><td>4.072680e-05</td><td>-1</td></tr>\n",
       "\t<tr><th scope=row>1053</th><td>1053</td><td>2.516482e-05</td><td>-1</td></tr>\n",
       "\t<tr><th scope=row>1006</th><td>1006</td><td>1.524743e-05</td><td>-1</td></tr>\n",
       "\t<tr><th scope=row>1124</th><td>1124</td><td>8.748737e-06</td><td>-1</td></tr>\n",
       "\t<tr><th scope=row>1028</th><td>1028</td><td>6.531548e-06</td><td>-1</td></tr>\n",
       "\t<tr><th scope=row>1156</th><td>1156</td><td>5.115710e-06</td><td>-1</td></tr>\n",
       "\t<tr><th scope=row>1185</th><td>1185</td><td>3.218400e-06</td><td>-1</td></tr>\n",
       "\t<tr><th scope=row>1014</th><td>1014</td><td>2.611654e-06</td><td>-1</td></tr>\n",
       "\t<tr><th scope=row>1015</th><td>1015</td><td>2.503873e-06</td><td>-1</td></tr>\n",
       "\t<tr><th scope=row>1153</th><td>1153</td><td>2.294678e-06</td><td>-1</td></tr>\n",
       "\t<tr><th scope=row>1169</th><td>1169</td><td>1.793565e-06</td><td>-1</td></tr>\n",
       "\t<tr><th scope=row>1174</th><td>1174</td><td>1.760685e-06</td><td>-1</td></tr>\n",
       "\t<tr><th scope=row>1038</th><td>1038</td><td>1.688241e-06</td><td>-1</td></tr>\n",
       "\t<tr><th scope=row>1120</th><td>1120</td><td>1.657247e-06</td><td>-1</td></tr>\n",
       "\t<tr><th scope=row>⋮</th><td>⋮</td><td>⋮</td><td>⋮</td></tr>\n",
       "\t<tr><th scope=row>41</th><td>  41</td><td>4.202825e-09</td><td>-1</td></tr>\n",
       "\t<tr><th scope=row>1845</th><td>1845</td><td>4.202825e-09</td><td>-1</td></tr>\n",
       "\t<tr><th scope=row>1489</th><td>1489</td><td>4.202813e-09</td><td>-1</td></tr>\n",
       "\t<tr><th scope=row>315</th><td> 315</td><td>4.202808e-09</td><td>-1</td></tr>\n",
       "\t<tr><th scope=row>780</th><td> 780</td><td>4.202808e-09</td><td>-1</td></tr>\n",
       "\t<tr><th scope=row>1742</th><td>1742</td><td>4.202808e-09</td><td>-1</td></tr>\n",
       "\t<tr><th scope=row>761</th><td> 761</td><td>4.202802e-09</td><td>-1</td></tr>\n",
       "\t<tr><th scope=row>280</th><td> 280</td><td>4.202800e-09</td><td>-1</td></tr>\n",
       "\t<tr><th scope=row>309</th><td> 309</td><td>4.202797e-09</td><td>-1</td></tr>\n",
       "\t<tr><th scope=row>1778</th><td>1778</td><td>4.202787e-09</td><td>-1</td></tr>\n",
       "\t<tr><th scope=row>1712</th><td>1712</td><td>4.202786e-09</td><td>-1</td></tr>\n",
       "\t<tr><th scope=row>767</th><td> 767</td><td>4.202785e-09</td><td>-1</td></tr>\n",
       "\t<tr><th scope=row>777</th><td> 777</td><td>4.202785e-09</td><td>-1</td></tr>\n",
       "\t<tr><th scope=row>784</th><td> 784</td><td>4.202785e-09</td><td>-1</td></tr>\n",
       "\t<tr><th scope=row>786</th><td> 786</td><td>4.202785e-09</td><td>-1</td></tr>\n",
       "\t<tr><th scope=row>788</th><td> 788</td><td>4.202785e-09</td><td>-1</td></tr>\n",
       "\t<tr><th scope=row>28</th><td>  28</td><td>4.202782e-09</td><td>-1</td></tr>\n",
       "\t<tr><th scope=row>51</th><td>  51</td><td>4.202782e-09</td><td>-1</td></tr>\n",
       "\t<tr><th scope=row>1857</th><td>1857</td><td>4.202780e-09</td><td>-1</td></tr>\n",
       "\t<tr><th scope=row>1559</th><td>1559</td><td>4.202780e-09</td><td>-1</td></tr>\n",
       "\t<tr><th scope=row>126</th><td> 126</td><td>4.202780e-09</td><td>-1</td></tr>\n",
       "\t<tr><th scope=row>447</th><td> 447</td><td>4.202779e-09</td><td>-1</td></tr>\n",
       "\t<tr><th scope=row>1581</th><td>1581</td><td>4.202779e-09</td><td>-1</td></tr>\n",
       "\t<tr><th scope=row>770</th><td> 770</td><td>4.202779e-09</td><td>-1</td></tr>\n",
       "\t<tr><th scope=row>773</th><td> 773</td><td>4.202779e-09</td><td>-1</td></tr>\n",
       "\t<tr><th scope=row>776</th><td> 776</td><td>4.202779e-09</td><td>-1</td></tr>\n",
       "\t<tr><th scope=row>779</th><td> 779</td><td>4.202779e-09</td><td>-1</td></tr>\n",
       "\t<tr><th scope=row>781</th><td> 781</td><td>4.202779e-09</td><td>-1</td></tr>\n",
       "\t<tr><th scope=row>792</th><td> 792</td><td>4.202779e-09</td><td>-1</td></tr>\n",
       "\t<tr><th scope=row>1877</th><td>1877</td><td>4.202779e-09</td><td>-1</td></tr>\n",
       "</tbody>\n",
       "</table>\n",
       "</dd>\n",
       "\t<dt>$cs</dt>\n",
       "\t\t<dd><table class=\"dataframe\">\n",
       "<caption>A data.frame: 1 × 5</caption>\n",
       "<thead>\n",
       "\t<tr><th scope=col>cs</th><th scope=col>cs_log10bf</th><th scope=col>cs_avg_r2</th><th scope=col>cs_min_r2</th><th scope=col>variable</th></tr>\n",
       "\t<tr><th scope=col>&lt;int&gt;</th><th scope=col>&lt;dbl&gt;</th><th scope=col>&lt;dbl&gt;</th><th scope=col>&lt;dbl&gt;</th><th scope=col>&lt;chr&gt;</th></tr>\n",
       "</thead>\n",
       "<tbody>\n",
       "\t<tr><td>1</td><td>4.326945</td><td>0.8773261</td><td>0.749433</td><td>1007,1013,1016,1017,1018,1021,1022,1023,1025</td></tr>\n",
       "</tbody>\n",
       "</table>\n",
       "</dd>\n",
       "</dl>\n"
      ],
      "text/latex": [
       "\\begin{description}\n",
       "\\item[\\$vars] A data.frame: 1878 × 3\n",
       "\\begin{tabular}{r|lll}\n",
       "  & variable & variable\\_prob & cs\\\\\n",
       "  & <dbl> & <dbl> & <dbl>\\\\\n",
       "\\hline\n",
       "\t1017 & 1017 & 2.664668e-01 &  1\\\\\n",
       "\t1007 & 1007 & 1.930711e-01 &  1\\\\\n",
       "\t1016 & 1016 & 1.613054e-01 &  1\\\\\n",
       "\t1013 & 1013 & 1.287878e-01 &  1\\\\\n",
       "\t1021 & 1021 & 1.272067e-01 &  1\\\\\n",
       "\t1023 & 1023 & 4.024302e-02 &  1\\\\\n",
       "\t1018 & 1018 & 1.862971e-02 &  1\\\\\n",
       "\t1022 & 1022 & 1.408566e-02 &  1\\\\\n",
       "\t1025 & 1025 & 1.390085e-02 &  1\\\\\n",
       "\t1026 & 1026 & 1.258617e-02 & -1\\\\\n",
       "\t1024 & 1024 & 1.227651e-02 & -1\\\\\n",
       "\t1027 & 1027 & 1.070711e-02 & -1\\\\\n",
       "\t1032 & 1032 & 2.215982e-04 & -1\\\\\n",
       "\t1043 & 1043 & 1.343909e-04 & -1\\\\\n",
       "\t1095 & 1095 & 8.638740e-05 & -1\\\\\n",
       "\t1103 & 1103 & 5.433512e-05 & -1\\\\\n",
       "\t1040 & 1040 & 4.072680e-05 & -1\\\\\n",
       "\t1053 & 1053 & 2.516482e-05 & -1\\\\\n",
       "\t1006 & 1006 & 1.524743e-05 & -1\\\\\n",
       "\t1124 & 1124 & 8.748737e-06 & -1\\\\\n",
       "\t1028 & 1028 & 6.531548e-06 & -1\\\\\n",
       "\t1156 & 1156 & 5.115710e-06 & -1\\\\\n",
       "\t1185 & 1185 & 3.218400e-06 & -1\\\\\n",
       "\t1014 & 1014 & 2.611654e-06 & -1\\\\\n",
       "\t1015 & 1015 & 2.503873e-06 & -1\\\\\n",
       "\t1153 & 1153 & 2.294678e-06 & -1\\\\\n",
       "\t1169 & 1169 & 1.793565e-06 & -1\\\\\n",
       "\t1174 & 1174 & 1.760685e-06 & -1\\\\\n",
       "\t1038 & 1038 & 1.688241e-06 & -1\\\\\n",
       "\t1120 & 1120 & 1.657247e-06 & -1\\\\\n",
       "\t⋮ & ⋮ & ⋮ & ⋮\\\\\n",
       "\t41 &   41 & 4.202825e-09 & -1\\\\\n",
       "\t1845 & 1845 & 4.202825e-09 & -1\\\\\n",
       "\t1489 & 1489 & 4.202813e-09 & -1\\\\\n",
       "\t315 &  315 & 4.202808e-09 & -1\\\\\n",
       "\t780 &  780 & 4.202808e-09 & -1\\\\\n",
       "\t1742 & 1742 & 4.202808e-09 & -1\\\\\n",
       "\t761 &  761 & 4.202802e-09 & -1\\\\\n",
       "\t280 &  280 & 4.202800e-09 & -1\\\\\n",
       "\t309 &  309 & 4.202797e-09 & -1\\\\\n",
       "\t1778 & 1778 & 4.202787e-09 & -1\\\\\n",
       "\t1712 & 1712 & 4.202786e-09 & -1\\\\\n",
       "\t767 &  767 & 4.202785e-09 & -1\\\\\n",
       "\t777 &  777 & 4.202785e-09 & -1\\\\\n",
       "\t784 &  784 & 4.202785e-09 & -1\\\\\n",
       "\t786 &  786 & 4.202785e-09 & -1\\\\\n",
       "\t788 &  788 & 4.202785e-09 & -1\\\\\n",
       "\t28 &   28 & 4.202782e-09 & -1\\\\\n",
       "\t51 &   51 & 4.202782e-09 & -1\\\\\n",
       "\t1857 & 1857 & 4.202780e-09 & -1\\\\\n",
       "\t1559 & 1559 & 4.202780e-09 & -1\\\\\n",
       "\t126 &  126 & 4.202780e-09 & -1\\\\\n",
       "\t447 &  447 & 4.202779e-09 & -1\\\\\n",
       "\t1581 & 1581 & 4.202779e-09 & -1\\\\\n",
       "\t770 &  770 & 4.202779e-09 & -1\\\\\n",
       "\t773 &  773 & 4.202779e-09 & -1\\\\\n",
       "\t776 &  776 & 4.202779e-09 & -1\\\\\n",
       "\t779 &  779 & 4.202779e-09 & -1\\\\\n",
       "\t781 &  781 & 4.202779e-09 & -1\\\\\n",
       "\t792 &  792 & 4.202779e-09 & -1\\\\\n",
       "\t1877 & 1877 & 4.202779e-09 & -1\\\\\n",
       "\\end{tabular}\n",
       "\n",
       "\\item[\\$cs] A data.frame: 1 × 5\n",
       "\\begin{tabular}{lllll}\n",
       " cs & cs\\_log10bf & cs\\_avg\\_r2 & cs\\_min\\_r2 & variable\\\\\n",
       " <int> & <dbl> & <dbl> & <dbl> & <chr>\\\\\n",
       "\\hline\n",
       "\t 1 & 4.326945 & 0.8773261 & 0.749433 & 1007,1013,1016,1017,1018,1021,1022,1023,1025\\\\\n",
       "\\end{tabular}\n",
       "\n",
       "\\end{description}\n"
      ],
      "text/markdown": [
       "$vars\n",
       ":   \n",
       "A data.frame: 1878 × 3\n",
       "\n",
       "| <!--/--> | variable &lt;dbl&gt; | variable_prob &lt;dbl&gt; | cs &lt;dbl&gt; |\n",
       "|---|---|---|---|\n",
       "| 1017 | 1017 | 2.664668e-01 |  1 |\n",
       "| 1007 | 1007 | 1.930711e-01 |  1 |\n",
       "| 1016 | 1016 | 1.613054e-01 |  1 |\n",
       "| 1013 | 1013 | 1.287878e-01 |  1 |\n",
       "| 1021 | 1021 | 1.272067e-01 |  1 |\n",
       "| 1023 | 1023 | 4.024302e-02 |  1 |\n",
       "| 1018 | 1018 | 1.862971e-02 |  1 |\n",
       "| 1022 | 1022 | 1.408566e-02 |  1 |\n",
       "| 1025 | 1025 | 1.390085e-02 |  1 |\n",
       "| 1026 | 1026 | 1.258617e-02 | -1 |\n",
       "| 1024 | 1024 | 1.227651e-02 | -1 |\n",
       "| 1027 | 1027 | 1.070711e-02 | -1 |\n",
       "| 1032 | 1032 | 2.215982e-04 | -1 |\n",
       "| 1043 | 1043 | 1.343909e-04 | -1 |\n",
       "| 1095 | 1095 | 8.638740e-05 | -1 |\n",
       "| 1103 | 1103 | 5.433512e-05 | -1 |\n",
       "| 1040 | 1040 | 4.072680e-05 | -1 |\n",
       "| 1053 | 1053 | 2.516482e-05 | -1 |\n",
       "| 1006 | 1006 | 1.524743e-05 | -1 |\n",
       "| 1124 | 1124 | 8.748737e-06 | -1 |\n",
       "| 1028 | 1028 | 6.531548e-06 | -1 |\n",
       "| 1156 | 1156 | 5.115710e-06 | -1 |\n",
       "| 1185 | 1185 | 3.218400e-06 | -1 |\n",
       "| 1014 | 1014 | 2.611654e-06 | -1 |\n",
       "| 1015 | 1015 | 2.503873e-06 | -1 |\n",
       "| 1153 | 1153 | 2.294678e-06 | -1 |\n",
       "| 1169 | 1169 | 1.793565e-06 | -1 |\n",
       "| 1174 | 1174 | 1.760685e-06 | -1 |\n",
       "| 1038 | 1038 | 1.688241e-06 | -1 |\n",
       "| 1120 | 1120 | 1.657247e-06 | -1 |\n",
       "| ⋮ | ⋮ | ⋮ | ⋮ |\n",
       "| 41 |   41 | 4.202825e-09 | -1 |\n",
       "| 1845 | 1845 | 4.202825e-09 | -1 |\n",
       "| 1489 | 1489 | 4.202813e-09 | -1 |\n",
       "| 315 |  315 | 4.202808e-09 | -1 |\n",
       "| 780 |  780 | 4.202808e-09 | -1 |\n",
       "| 1742 | 1742 | 4.202808e-09 | -1 |\n",
       "| 761 |  761 | 4.202802e-09 | -1 |\n",
       "| 280 |  280 | 4.202800e-09 | -1 |\n",
       "| 309 |  309 | 4.202797e-09 | -1 |\n",
       "| 1778 | 1778 | 4.202787e-09 | -1 |\n",
       "| 1712 | 1712 | 4.202786e-09 | -1 |\n",
       "| 767 |  767 | 4.202785e-09 | -1 |\n",
       "| 777 |  777 | 4.202785e-09 | -1 |\n",
       "| 784 |  784 | 4.202785e-09 | -1 |\n",
       "| 786 |  786 | 4.202785e-09 | -1 |\n",
       "| 788 |  788 | 4.202785e-09 | -1 |\n",
       "| 28 |   28 | 4.202782e-09 | -1 |\n",
       "| 51 |   51 | 4.202782e-09 | -1 |\n",
       "| 1857 | 1857 | 4.202780e-09 | -1 |\n",
       "| 1559 | 1559 | 4.202780e-09 | -1 |\n",
       "| 126 |  126 | 4.202780e-09 | -1 |\n",
       "| 447 |  447 | 4.202779e-09 | -1 |\n",
       "| 1581 | 1581 | 4.202779e-09 | -1 |\n",
       "| 770 |  770 | 4.202779e-09 | -1 |\n",
       "| 773 |  773 | 4.202779e-09 | -1 |\n",
       "| 776 |  776 | 4.202779e-09 | -1 |\n",
       "| 779 |  779 | 4.202779e-09 | -1 |\n",
       "| 781 |  781 | 4.202779e-09 | -1 |\n",
       "| 792 |  792 | 4.202779e-09 | -1 |\n",
       "| 1877 | 1877 | 4.202779e-09 | -1 |\n",
       "\n",
       "\n",
       "$cs\n",
       ":   \n",
       "A data.frame: 1 × 5\n",
       "\n",
       "| cs &lt;int&gt; | cs_log10bf &lt;dbl&gt; | cs_avg_r2 &lt;dbl&gt; | cs_min_r2 &lt;dbl&gt; | variable &lt;chr&gt; |\n",
       "|---|---|---|---|---|\n",
       "| 1 | 4.326945 | 0.8773261 | 0.749433 | 1007,1013,1016,1017,1018,1021,1022,1023,1025 |\n",
       "\n",
       "\n",
       "\n",
       "\n"
      ],
      "text/plain": [
       "\n",
       "Variables in credible sets:\n",
       "\n",
       " variable variable_prob cs\n",
       "     1017    0.26646677  1\n",
       "     1007    0.19307114  1\n",
       "     1016    0.16130541  1\n",
       "     1013    0.12878776  1\n",
       "     1021    0.12720671  1\n",
       "     1023    0.04024302  1\n",
       "     1018    0.01862971  1\n",
       "     1022    0.01408566  1\n",
       "     1025    0.01390085  1\n",
       "\n",
       "Credible sets summary:\n",
       "\n",
       " cs cs_log10bf cs_avg_r2 cs_min_r2                                     variable\n",
       "  1   4.326945 0.8773261  0.749433 1007,1013,1016,1017,1018,1021,1022,1023,1025"
      ]
     },
     "metadata": {},
     "output_type": "display_data"
    }
   ],
   "source": [
    "summary(susie_results)"
   ]
  },
  {
   "cell_type": "code",
   "execution_count": 33,
   "id": "363b52cf",
   "metadata": {},
   "outputs": [
    {
     "data": {
      "image/png": "[encoded data removed]",
      "text/plain": [
       "plot without title"
      ]
     },
     "metadata": {
      "image/png": {
       "height": 420,
       "width": 420
      }
     },
     "output_type": "display_data"
    }
   ],
   "source": [
    "susie_plot(susie_results, y=\"PIP\", b=(sum.stats$CV != 0))"
   ]
  }
 ],
 "metadata": {
  "kernelspec": {
   "display_name": "simGWAS",
   "language": "R",
   "name": "simgwas"
  },
  "language_info": {
   "codemirror_mode": "r",
   "file_extension": ".r",
   "mimetype": "text/x-r-source",
   "name": "R",
   "pygments_lexer": "r",
   "version": "4.3.1"
  }
 },
 "nbformat": 4,
 "nbformat_minor": 5
}
